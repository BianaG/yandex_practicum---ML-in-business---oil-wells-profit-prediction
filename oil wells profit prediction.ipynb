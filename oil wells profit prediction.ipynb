{
 "cells": [
  {
   "cell_type": "markdown",
   "id": "fb661bbd",
   "metadata": {},
   "source": [
    "## Introduction\n",
    "\n",
    "In this project, the main objective is to find the best place out of three regions to develop new 200 oil wells. We will build a model for predicting the volume of reserves in new wells, pick the wells with the highest estimated reserves, and then choose the region with the highest estimated total profit for the selected oil wells. "
   ]
  },
  {
   "cell_type": "code",
   "execution_count": 1,
   "id": "96f358cc",
   "metadata": {},
   "outputs": [],
   "source": [
    "import pandas as pd\n",
    "import sidetable as stb\n",
    "import math\n",
    "import numpy as np\n",
    "from numpy.random import RandomState\n",
    "from statistics import mean\n",
    "\n",
    "import matplotlib.pyplot as plt\n",
    "import seaborn as sns\n",
    "\n",
    "from sklearn.linear_model import LinearRegression\n",
    "from sklearn.metrics import mean_squared_error\n",
    "from sklearn.model_selection import train_test_split\n",
    "from sklearn.preprocessing import StandardScaler"
   ]
  },
  {
   "cell_type": "markdown",
   "id": "d97c2c8e",
   "metadata": {},
   "source": [
    "## 1. Download and prepare the data. Explain the procedure."
   ]
  },
  {
   "cell_type": "markdown",
   "id": "4c032da8",
   "metadata": {},
   "source": [
    "Let's load the datasets."
   ]
  },
  {
   "cell_type": "code",
   "execution_count": 2,
   "id": "c8be5d27",
   "metadata": {},
   "outputs": [],
   "source": [
    "region_zero = pd.read_csv('geo_data_0.csv')\n",
    "region_one = pd.read_csv('geo_data_1.csv')\n",
    "region_two = pd.read_csv('geo_data_2.csv')"
   ]
  },
  {
   "cell_type": "markdown",
   "id": "c233c15f",
   "metadata": {},
   "source": [
    "Now we will call the info() and head() methods to get a quick look on the datasets."
   ]
  },
  {
   "cell_type": "code",
   "execution_count": 3,
   "id": "af88defb",
   "metadata": {},
   "outputs": [
    {
     "data": {
      "text/html": [
       "<div>\n",
       "<style scoped>\n",
       "    .dataframe tbody tr th:only-of-type {\n",
       "        vertical-align: middle;\n",
       "    }\n",
       "\n",
       "    .dataframe tbody tr th {\n",
       "        vertical-align: top;\n",
       "    }\n",
       "\n",
       "    .dataframe thead th {\n",
       "        text-align: right;\n",
       "    }\n",
       "</style>\n",
       "<table border=\"1\" class=\"dataframe\">\n",
       "  <thead>\n",
       "    <tr style=\"text-align: right;\">\n",
       "      <th></th>\n",
       "      <th>id</th>\n",
       "      <th>f0</th>\n",
       "      <th>f1</th>\n",
       "      <th>f2</th>\n",
       "      <th>product</th>\n",
       "    </tr>\n",
       "  </thead>\n",
       "  <tbody>\n",
       "    <tr>\n",
       "      <th>0</th>\n",
       "      <td>txEyH</td>\n",
       "      <td>0.705745</td>\n",
       "      <td>-0.497823</td>\n",
       "      <td>1.221170</td>\n",
       "      <td>105.280062</td>\n",
       "    </tr>\n",
       "    <tr>\n",
       "      <th>1</th>\n",
       "      <td>2acmU</td>\n",
       "      <td>1.334711</td>\n",
       "      <td>-0.340164</td>\n",
       "      <td>4.365080</td>\n",
       "      <td>73.037750</td>\n",
       "    </tr>\n",
       "    <tr>\n",
       "      <th>2</th>\n",
       "      <td>409Wp</td>\n",
       "      <td>1.022732</td>\n",
       "      <td>0.151990</td>\n",
       "      <td>1.419926</td>\n",
       "      <td>85.265647</td>\n",
       "    </tr>\n",
       "    <tr>\n",
       "      <th>3</th>\n",
       "      <td>iJLyR</td>\n",
       "      <td>-0.032172</td>\n",
       "      <td>0.139033</td>\n",
       "      <td>2.978566</td>\n",
       "      <td>168.620776</td>\n",
       "    </tr>\n",
       "    <tr>\n",
       "      <th>4</th>\n",
       "      <td>Xdl7t</td>\n",
       "      <td>1.988431</td>\n",
       "      <td>0.155413</td>\n",
       "      <td>4.751769</td>\n",
       "      <td>154.036647</td>\n",
       "    </tr>\n",
       "  </tbody>\n",
       "</table>\n",
       "</div>"
      ],
      "text/plain": [
       "      id        f0        f1        f2     product\n",
       "0  txEyH  0.705745 -0.497823  1.221170  105.280062\n",
       "1  2acmU  1.334711 -0.340164  4.365080   73.037750\n",
       "2  409Wp  1.022732  0.151990  1.419926   85.265647\n",
       "3  iJLyR -0.032172  0.139033  2.978566  168.620776\n",
       "4  Xdl7t  1.988431  0.155413  4.751769  154.036647"
      ]
     },
     "execution_count": 3,
     "metadata": {},
     "output_type": "execute_result"
    }
   ],
   "source": [
    "region_zero.head()"
   ]
  },
  {
   "cell_type": "code",
   "execution_count": 4,
   "id": "652c8a33",
   "metadata": {},
   "outputs": [
    {
     "data": {
      "text/html": [
       "<div>\n",
       "<style scoped>\n",
       "    .dataframe tbody tr th:only-of-type {\n",
       "        vertical-align: middle;\n",
       "    }\n",
       "\n",
       "    .dataframe tbody tr th {\n",
       "        vertical-align: top;\n",
       "    }\n",
       "\n",
       "    .dataframe thead th {\n",
       "        text-align: right;\n",
       "    }\n",
       "</style>\n",
       "<table border=\"1\" class=\"dataframe\">\n",
       "  <thead>\n",
       "    <tr style=\"text-align: right;\">\n",
       "      <th></th>\n",
       "      <th>id</th>\n",
       "      <th>f0</th>\n",
       "      <th>f1</th>\n",
       "      <th>f2</th>\n",
       "      <th>product</th>\n",
       "    </tr>\n",
       "  </thead>\n",
       "  <tbody>\n",
       "    <tr>\n",
       "      <th>0</th>\n",
       "      <td>kBEdx</td>\n",
       "      <td>-15.001348</td>\n",
       "      <td>-8.276000</td>\n",
       "      <td>-0.005876</td>\n",
       "      <td>3.179103</td>\n",
       "    </tr>\n",
       "    <tr>\n",
       "      <th>1</th>\n",
       "      <td>62mP7</td>\n",
       "      <td>14.272088</td>\n",
       "      <td>-3.475083</td>\n",
       "      <td>0.999183</td>\n",
       "      <td>26.953261</td>\n",
       "    </tr>\n",
       "    <tr>\n",
       "      <th>2</th>\n",
       "      <td>vyE1P</td>\n",
       "      <td>6.263187</td>\n",
       "      <td>-5.948386</td>\n",
       "      <td>5.001160</td>\n",
       "      <td>134.766305</td>\n",
       "    </tr>\n",
       "    <tr>\n",
       "      <th>3</th>\n",
       "      <td>KcrkZ</td>\n",
       "      <td>-13.081196</td>\n",
       "      <td>-11.506057</td>\n",
       "      <td>4.999415</td>\n",
       "      <td>137.945408</td>\n",
       "    </tr>\n",
       "    <tr>\n",
       "      <th>4</th>\n",
       "      <td>AHL4O</td>\n",
       "      <td>12.702195</td>\n",
       "      <td>-8.147433</td>\n",
       "      <td>5.004363</td>\n",
       "      <td>134.766305</td>\n",
       "    </tr>\n",
       "  </tbody>\n",
       "</table>\n",
       "</div>"
      ],
      "text/plain": [
       "      id         f0         f1        f2     product\n",
       "0  kBEdx -15.001348  -8.276000 -0.005876    3.179103\n",
       "1  62mP7  14.272088  -3.475083  0.999183   26.953261\n",
       "2  vyE1P   6.263187  -5.948386  5.001160  134.766305\n",
       "3  KcrkZ -13.081196 -11.506057  4.999415  137.945408\n",
       "4  AHL4O  12.702195  -8.147433  5.004363  134.766305"
      ]
     },
     "execution_count": 4,
     "metadata": {},
     "output_type": "execute_result"
    }
   ],
   "source": [
    "region_one.head()"
   ]
  },
  {
   "cell_type": "code",
   "execution_count": 5,
   "id": "e8f378fb",
   "metadata": {},
   "outputs": [
    {
     "data": {
      "text/html": [
       "<div>\n",
       "<style scoped>\n",
       "    .dataframe tbody tr th:only-of-type {\n",
       "        vertical-align: middle;\n",
       "    }\n",
       "\n",
       "    .dataframe tbody tr th {\n",
       "        vertical-align: top;\n",
       "    }\n",
       "\n",
       "    .dataframe thead th {\n",
       "        text-align: right;\n",
       "    }\n",
       "</style>\n",
       "<table border=\"1\" class=\"dataframe\">\n",
       "  <thead>\n",
       "    <tr style=\"text-align: right;\">\n",
       "      <th></th>\n",
       "      <th>id</th>\n",
       "      <th>f0</th>\n",
       "      <th>f1</th>\n",
       "      <th>f2</th>\n",
       "      <th>product</th>\n",
       "    </tr>\n",
       "  </thead>\n",
       "  <tbody>\n",
       "    <tr>\n",
       "      <th>0</th>\n",
       "      <td>fwXo0</td>\n",
       "      <td>-1.146987</td>\n",
       "      <td>0.963328</td>\n",
       "      <td>-0.828965</td>\n",
       "      <td>27.758673</td>\n",
       "    </tr>\n",
       "    <tr>\n",
       "      <th>1</th>\n",
       "      <td>WJtFt</td>\n",
       "      <td>0.262778</td>\n",
       "      <td>0.269839</td>\n",
       "      <td>-2.530187</td>\n",
       "      <td>56.069697</td>\n",
       "    </tr>\n",
       "    <tr>\n",
       "      <th>2</th>\n",
       "      <td>ovLUW</td>\n",
       "      <td>0.194587</td>\n",
       "      <td>0.289035</td>\n",
       "      <td>-5.586433</td>\n",
       "      <td>62.871910</td>\n",
       "    </tr>\n",
       "    <tr>\n",
       "      <th>3</th>\n",
       "      <td>q6cA6</td>\n",
       "      <td>2.236060</td>\n",
       "      <td>-0.553760</td>\n",
       "      <td>0.930038</td>\n",
       "      <td>114.572842</td>\n",
       "    </tr>\n",
       "    <tr>\n",
       "      <th>4</th>\n",
       "      <td>WPMUX</td>\n",
       "      <td>-0.515993</td>\n",
       "      <td>1.716266</td>\n",
       "      <td>5.899011</td>\n",
       "      <td>149.600746</td>\n",
       "    </tr>\n",
       "  </tbody>\n",
       "</table>\n",
       "</div>"
      ],
      "text/plain": [
       "      id        f0        f1        f2     product\n",
       "0  fwXo0 -1.146987  0.963328 -0.828965   27.758673\n",
       "1  WJtFt  0.262778  0.269839 -2.530187   56.069697\n",
       "2  ovLUW  0.194587  0.289035 -5.586433   62.871910\n",
       "3  q6cA6  2.236060 -0.553760  0.930038  114.572842\n",
       "4  WPMUX -0.515993  1.716266  5.899011  149.600746"
      ]
     },
     "execution_count": 5,
     "metadata": {},
     "output_type": "execute_result"
    }
   ],
   "source": [
    "region_two.head()"
   ]
  },
  {
   "cell_type": "markdown",
   "id": "9da20620",
   "metadata": {},
   "source": [
    "Everything seems good. \n",
    "\n",
    "Let's move on with the investigation."
   ]
  },
  {
   "cell_type": "code",
   "execution_count": 6,
   "id": "753fdffa",
   "metadata": {},
   "outputs": [
    {
     "name": "stdout",
     "output_type": "stream",
     "text": [
      "<class 'pandas.core.frame.DataFrame'>\n",
      "RangeIndex: 100000 entries, 0 to 99999\n",
      "Data columns (total 5 columns):\n",
      " #   Column   Non-Null Count   Dtype  \n",
      "---  ------   --------------   -----  \n",
      " 0   id       100000 non-null  object \n",
      " 1   f0       100000 non-null  float64\n",
      " 2   f1       100000 non-null  float64\n",
      " 3   f2       100000 non-null  float64\n",
      " 4   product  100000 non-null  float64\n",
      "dtypes: float64(4), object(1)\n",
      "memory usage: 3.8+ MB\n"
     ]
    }
   ],
   "source": [
    "region_zero.info()"
   ]
  },
  {
   "cell_type": "code",
   "execution_count": 7,
   "id": "efbacdf0",
   "metadata": {},
   "outputs": [
    {
     "name": "stdout",
     "output_type": "stream",
     "text": [
      "<class 'pandas.core.frame.DataFrame'>\n",
      "RangeIndex: 100000 entries, 0 to 99999\n",
      "Data columns (total 5 columns):\n",
      " #   Column   Non-Null Count   Dtype  \n",
      "---  ------   --------------   -----  \n",
      " 0   id       100000 non-null  object \n",
      " 1   f0       100000 non-null  float64\n",
      " 2   f1       100000 non-null  float64\n",
      " 3   f2       100000 non-null  float64\n",
      " 4   product  100000 non-null  float64\n",
      "dtypes: float64(4), object(1)\n",
      "memory usage: 3.8+ MB\n"
     ]
    }
   ],
   "source": [
    "region_one.info()"
   ]
  },
  {
   "cell_type": "code",
   "execution_count": 8,
   "id": "bf8f89b4",
   "metadata": {},
   "outputs": [
    {
     "name": "stdout",
     "output_type": "stream",
     "text": [
      "<class 'pandas.core.frame.DataFrame'>\n",
      "RangeIndex: 100000 entries, 0 to 99999\n",
      "Data columns (total 5 columns):\n",
      " #   Column   Non-Null Count   Dtype  \n",
      "---  ------   --------------   -----  \n",
      " 0   id       100000 non-null  object \n",
      " 1   f0       100000 non-null  float64\n",
      " 2   f1       100000 non-null  float64\n",
      " 3   f2       100000 non-null  float64\n",
      " 4   product  100000 non-null  float64\n",
      "dtypes: float64(4), object(1)\n",
      "memory usage: 3.8+ MB\n"
     ]
    }
   ],
   "source": [
    "region_two.info()"
   ]
  },
  {
   "cell_type": "markdown",
   "id": "43035b75",
   "metadata": {},
   "source": [
    "All three datasets have 100,000 observations and 5 columns. Four columns are numeric and only one is an object type. This column is in some way an index column of the oil wells, so we will drop it for the model training process because it doesn't contain any information that we can use for our predictions. \n",
    "It seems that there are no missing values in the data sets. But we will check with the stb() library, later on, just to be sure.  "
   ]
  },
  {
   "cell_type": "code",
   "execution_count": 9,
   "id": "ecb9badb",
   "metadata": {},
   "outputs": [],
   "source": [
    "region_zero.drop(['id'], axis = 1, inplace = True)\n",
    "region_one.drop(['id'], axis = 1, inplace = True)\n",
    "region_two.drop(['id'], axis = 1, inplace = True)"
   ]
  },
  {
   "cell_type": "code",
   "execution_count": 10,
   "id": "dee39935",
   "metadata": {},
   "outputs": [
    {
     "data": {
      "text/html": [
       "<div>\n",
       "<style scoped>\n",
       "    .dataframe tbody tr th:only-of-type {\n",
       "        vertical-align: middle;\n",
       "    }\n",
       "\n",
       "    .dataframe tbody tr th {\n",
       "        vertical-align: top;\n",
       "    }\n",
       "\n",
       "    .dataframe thead th {\n",
       "        text-align: right;\n",
       "    }\n",
       "</style>\n",
       "<table border=\"1\" class=\"dataframe\">\n",
       "  <thead>\n",
       "    <tr style=\"text-align: right;\">\n",
       "      <th></th>\n",
       "      <th>f0</th>\n",
       "      <th>f1</th>\n",
       "      <th>f2</th>\n",
       "      <th>product</th>\n",
       "    </tr>\n",
       "  </thead>\n",
       "  <tbody>\n",
       "    <tr>\n",
       "      <th>0</th>\n",
       "      <td>0.705745</td>\n",
       "      <td>-0.497823</td>\n",
       "      <td>1.22117</td>\n",
       "      <td>105.280062</td>\n",
       "    </tr>\n",
       "    <tr>\n",
       "      <th>1</th>\n",
       "      <td>1.334711</td>\n",
       "      <td>-0.340164</td>\n",
       "      <td>4.36508</td>\n",
       "      <td>73.037750</td>\n",
       "    </tr>\n",
       "  </tbody>\n",
       "</table>\n",
       "</div>"
      ],
      "text/plain": [
       "         f0        f1       f2     product\n",
       "0  0.705745 -0.497823  1.22117  105.280062\n",
       "1  1.334711 -0.340164  4.36508   73.037750"
      ]
     },
     "execution_count": 10,
     "metadata": {},
     "output_type": "execute_result"
    }
   ],
   "source": [
    "region_zero.head(2)"
   ]
  },
  {
   "cell_type": "code",
   "execution_count": 11,
   "id": "9df9cc5d",
   "metadata": {},
   "outputs": [
    {
     "data": {
      "text/html": [
       "<div>\n",
       "<style scoped>\n",
       "    .dataframe tbody tr th:only-of-type {\n",
       "        vertical-align: middle;\n",
       "    }\n",
       "\n",
       "    .dataframe tbody tr th {\n",
       "        vertical-align: top;\n",
       "    }\n",
       "\n",
       "    .dataframe thead th {\n",
       "        text-align: right;\n",
       "    }\n",
       "</style>\n",
       "<table border=\"1\" class=\"dataframe\">\n",
       "  <thead>\n",
       "    <tr style=\"text-align: right;\">\n",
       "      <th></th>\n",
       "      <th>f0</th>\n",
       "      <th>f1</th>\n",
       "      <th>f2</th>\n",
       "      <th>product</th>\n",
       "    </tr>\n",
       "  </thead>\n",
       "  <tbody>\n",
       "    <tr>\n",
       "      <th>0</th>\n",
       "      <td>-15.001348</td>\n",
       "      <td>-8.276000</td>\n",
       "      <td>-0.005876</td>\n",
       "      <td>3.179103</td>\n",
       "    </tr>\n",
       "    <tr>\n",
       "      <th>1</th>\n",
       "      <td>14.272088</td>\n",
       "      <td>-3.475083</td>\n",
       "      <td>0.999183</td>\n",
       "      <td>26.953261</td>\n",
       "    </tr>\n",
       "  </tbody>\n",
       "</table>\n",
       "</div>"
      ],
      "text/plain": [
       "          f0        f1        f2    product\n",
       "0 -15.001348 -8.276000 -0.005876   3.179103\n",
       "1  14.272088 -3.475083  0.999183  26.953261"
      ]
     },
     "execution_count": 11,
     "metadata": {},
     "output_type": "execute_result"
    }
   ],
   "source": [
    "region_one.head(2)"
   ]
  },
  {
   "cell_type": "code",
   "execution_count": 12,
   "id": "7ab8f657",
   "metadata": {},
   "outputs": [
    {
     "data": {
      "text/html": [
       "<div>\n",
       "<style scoped>\n",
       "    .dataframe tbody tr th:only-of-type {\n",
       "        vertical-align: middle;\n",
       "    }\n",
       "\n",
       "    .dataframe tbody tr th {\n",
       "        vertical-align: top;\n",
       "    }\n",
       "\n",
       "    .dataframe thead th {\n",
       "        text-align: right;\n",
       "    }\n",
       "</style>\n",
       "<table border=\"1\" class=\"dataframe\">\n",
       "  <thead>\n",
       "    <tr style=\"text-align: right;\">\n",
       "      <th></th>\n",
       "      <th>f0</th>\n",
       "      <th>f1</th>\n",
       "      <th>f2</th>\n",
       "      <th>product</th>\n",
       "    </tr>\n",
       "  </thead>\n",
       "  <tbody>\n",
       "    <tr>\n",
       "      <th>0</th>\n",
       "      <td>-1.146987</td>\n",
       "      <td>0.963328</td>\n",
       "      <td>-0.828965</td>\n",
       "      <td>27.758673</td>\n",
       "    </tr>\n",
       "    <tr>\n",
       "      <th>1</th>\n",
       "      <td>0.262778</td>\n",
       "      <td>0.269839</td>\n",
       "      <td>-2.530187</td>\n",
       "      <td>56.069697</td>\n",
       "    </tr>\n",
       "  </tbody>\n",
       "</table>\n",
       "</div>"
      ],
      "text/plain": [
       "         f0        f1        f2    product\n",
       "0 -1.146987  0.963328 -0.828965  27.758673\n",
       "1  0.262778  0.269839 -2.530187  56.069697"
      ]
     },
     "execution_count": 12,
     "metadata": {},
     "output_type": "execute_result"
    }
   ],
   "source": [
    "region_two.head(2)"
   ]
  },
  {
   "cell_type": "markdown",
   "id": "3ce266de",
   "metadata": {},
   "source": [
    "Great!\n",
    "\n",
    "We removed the **id** columns from all datasets."
   ]
  },
  {
   "cell_type": "markdown",
   "id": "866b159a",
   "metadata": {},
   "source": [
    "**Missing values**"
   ]
  },
  {
   "cell_type": "code",
   "execution_count": 13,
   "id": "39cd9ad9",
   "metadata": {},
   "outputs": [
    {
     "data": {
      "text/html": [
       "<style  type=\"text/css\" >\n",
       "</style><table id=\"T_3a57a05e_b815_11ec_b216_00bb60ab5d64\" ><thead>    <tr>        <th class=\"blank level0\" ></th>        <th class=\"col_heading level0 col0\" >missing</th>        <th class=\"col_heading level0 col1\" >total</th>        <th class=\"col_heading level0 col2\" >percent</th>    </tr></thead><tbody>\n",
       "                <tr>\n",
       "                        <th id=\"T_3a57a05e_b815_11ec_b216_00bb60ab5d64level0_row0\" class=\"row_heading level0 row0\" >f0</th>\n",
       "                        <td id=\"T_3a57a05e_b815_11ec_b216_00bb60ab5d64row0_col0\" class=\"data row0 col0\" >0</td>\n",
       "                        <td id=\"T_3a57a05e_b815_11ec_b216_00bb60ab5d64row0_col1\" class=\"data row0 col1\" >100,000</td>\n",
       "                        <td id=\"T_3a57a05e_b815_11ec_b216_00bb60ab5d64row0_col2\" class=\"data row0 col2\" >0.00%</td>\n",
       "            </tr>\n",
       "            <tr>\n",
       "                        <th id=\"T_3a57a05e_b815_11ec_b216_00bb60ab5d64level0_row1\" class=\"row_heading level0 row1\" >f1</th>\n",
       "                        <td id=\"T_3a57a05e_b815_11ec_b216_00bb60ab5d64row1_col0\" class=\"data row1 col0\" >0</td>\n",
       "                        <td id=\"T_3a57a05e_b815_11ec_b216_00bb60ab5d64row1_col1\" class=\"data row1 col1\" >100,000</td>\n",
       "                        <td id=\"T_3a57a05e_b815_11ec_b216_00bb60ab5d64row1_col2\" class=\"data row1 col2\" >0.00%</td>\n",
       "            </tr>\n",
       "            <tr>\n",
       "                        <th id=\"T_3a57a05e_b815_11ec_b216_00bb60ab5d64level0_row2\" class=\"row_heading level0 row2\" >f2</th>\n",
       "                        <td id=\"T_3a57a05e_b815_11ec_b216_00bb60ab5d64row2_col0\" class=\"data row2 col0\" >0</td>\n",
       "                        <td id=\"T_3a57a05e_b815_11ec_b216_00bb60ab5d64row2_col1\" class=\"data row2 col1\" >100,000</td>\n",
       "                        <td id=\"T_3a57a05e_b815_11ec_b216_00bb60ab5d64row2_col2\" class=\"data row2 col2\" >0.00%</td>\n",
       "            </tr>\n",
       "            <tr>\n",
       "                        <th id=\"T_3a57a05e_b815_11ec_b216_00bb60ab5d64level0_row3\" class=\"row_heading level0 row3\" >product</th>\n",
       "                        <td id=\"T_3a57a05e_b815_11ec_b216_00bb60ab5d64row3_col0\" class=\"data row3 col0\" >0</td>\n",
       "                        <td id=\"T_3a57a05e_b815_11ec_b216_00bb60ab5d64row3_col1\" class=\"data row3 col1\" >100,000</td>\n",
       "                        <td id=\"T_3a57a05e_b815_11ec_b216_00bb60ab5d64row3_col2\" class=\"data row3 col2\" >0.00%</td>\n",
       "            </tr>\n",
       "    </tbody></table>"
      ],
      "text/plain": [
       "<pandas.io.formats.style.Styler at 0x1ca62f5af98>"
      ]
     },
     "execution_count": 13,
     "metadata": {},
     "output_type": "execute_result"
    }
   ],
   "source": [
    "region_zero.stb.missing(style = True)"
   ]
  },
  {
   "cell_type": "code",
   "execution_count": 14,
   "id": "a238903a",
   "metadata": {},
   "outputs": [
    {
     "data": {
      "text/html": [
       "<style  type=\"text/css\" >\n",
       "</style><table id=\"T_3a5d3836_b815_11ec_86b1_00bb60ab5d64\" ><thead>    <tr>        <th class=\"blank level0\" ></th>        <th class=\"col_heading level0 col0\" >missing</th>        <th class=\"col_heading level0 col1\" >total</th>        <th class=\"col_heading level0 col2\" >percent</th>    </tr></thead><tbody>\n",
       "                <tr>\n",
       "                        <th id=\"T_3a5d3836_b815_11ec_86b1_00bb60ab5d64level0_row0\" class=\"row_heading level0 row0\" >f0</th>\n",
       "                        <td id=\"T_3a5d3836_b815_11ec_86b1_00bb60ab5d64row0_col0\" class=\"data row0 col0\" >0</td>\n",
       "                        <td id=\"T_3a5d3836_b815_11ec_86b1_00bb60ab5d64row0_col1\" class=\"data row0 col1\" >100,000</td>\n",
       "                        <td id=\"T_3a5d3836_b815_11ec_86b1_00bb60ab5d64row0_col2\" class=\"data row0 col2\" >0.00%</td>\n",
       "            </tr>\n",
       "            <tr>\n",
       "                        <th id=\"T_3a5d3836_b815_11ec_86b1_00bb60ab5d64level0_row1\" class=\"row_heading level0 row1\" >f1</th>\n",
       "                        <td id=\"T_3a5d3836_b815_11ec_86b1_00bb60ab5d64row1_col0\" class=\"data row1 col0\" >0</td>\n",
       "                        <td id=\"T_3a5d3836_b815_11ec_86b1_00bb60ab5d64row1_col1\" class=\"data row1 col1\" >100,000</td>\n",
       "                        <td id=\"T_3a5d3836_b815_11ec_86b1_00bb60ab5d64row1_col2\" class=\"data row1 col2\" >0.00%</td>\n",
       "            </tr>\n",
       "            <tr>\n",
       "                        <th id=\"T_3a5d3836_b815_11ec_86b1_00bb60ab5d64level0_row2\" class=\"row_heading level0 row2\" >f2</th>\n",
       "                        <td id=\"T_3a5d3836_b815_11ec_86b1_00bb60ab5d64row2_col0\" class=\"data row2 col0\" >0</td>\n",
       "                        <td id=\"T_3a5d3836_b815_11ec_86b1_00bb60ab5d64row2_col1\" class=\"data row2 col1\" >100,000</td>\n",
       "                        <td id=\"T_3a5d3836_b815_11ec_86b1_00bb60ab5d64row2_col2\" class=\"data row2 col2\" >0.00%</td>\n",
       "            </tr>\n",
       "            <tr>\n",
       "                        <th id=\"T_3a5d3836_b815_11ec_86b1_00bb60ab5d64level0_row3\" class=\"row_heading level0 row3\" >product</th>\n",
       "                        <td id=\"T_3a5d3836_b815_11ec_86b1_00bb60ab5d64row3_col0\" class=\"data row3 col0\" >0</td>\n",
       "                        <td id=\"T_3a5d3836_b815_11ec_86b1_00bb60ab5d64row3_col1\" class=\"data row3 col1\" >100,000</td>\n",
       "                        <td id=\"T_3a5d3836_b815_11ec_86b1_00bb60ab5d64row3_col2\" class=\"data row3 col2\" >0.00%</td>\n",
       "            </tr>\n",
       "    </tbody></table>"
      ],
      "text/plain": [
       "<pandas.io.formats.style.Styler at 0x1ca63401da0>"
      ]
     },
     "execution_count": 14,
     "metadata": {},
     "output_type": "execute_result"
    }
   ],
   "source": [
    "region_one.stb.missing(style = True)"
   ]
  },
  {
   "cell_type": "code",
   "execution_count": 15,
   "id": "d663f8b1",
   "metadata": {},
   "outputs": [
    {
     "data": {
      "text/html": [
       "<style  type=\"text/css\" >\n",
       "</style><table id=\"T_3a61f01a_b815_11ec_a9ff_00bb60ab5d64\" ><thead>    <tr>        <th class=\"blank level0\" ></th>        <th class=\"col_heading level0 col0\" >missing</th>        <th class=\"col_heading level0 col1\" >total</th>        <th class=\"col_heading level0 col2\" >percent</th>    </tr></thead><tbody>\n",
       "                <tr>\n",
       "                        <th id=\"T_3a61f01a_b815_11ec_a9ff_00bb60ab5d64level0_row0\" class=\"row_heading level0 row0\" >f0</th>\n",
       "                        <td id=\"T_3a61f01a_b815_11ec_a9ff_00bb60ab5d64row0_col0\" class=\"data row0 col0\" >0</td>\n",
       "                        <td id=\"T_3a61f01a_b815_11ec_a9ff_00bb60ab5d64row0_col1\" class=\"data row0 col1\" >100,000</td>\n",
       "                        <td id=\"T_3a61f01a_b815_11ec_a9ff_00bb60ab5d64row0_col2\" class=\"data row0 col2\" >0.00%</td>\n",
       "            </tr>\n",
       "            <tr>\n",
       "                        <th id=\"T_3a61f01a_b815_11ec_a9ff_00bb60ab5d64level0_row1\" class=\"row_heading level0 row1\" >f1</th>\n",
       "                        <td id=\"T_3a61f01a_b815_11ec_a9ff_00bb60ab5d64row1_col0\" class=\"data row1 col0\" >0</td>\n",
       "                        <td id=\"T_3a61f01a_b815_11ec_a9ff_00bb60ab5d64row1_col1\" class=\"data row1 col1\" >100,000</td>\n",
       "                        <td id=\"T_3a61f01a_b815_11ec_a9ff_00bb60ab5d64row1_col2\" class=\"data row1 col2\" >0.00%</td>\n",
       "            </tr>\n",
       "            <tr>\n",
       "                        <th id=\"T_3a61f01a_b815_11ec_a9ff_00bb60ab5d64level0_row2\" class=\"row_heading level0 row2\" >f2</th>\n",
       "                        <td id=\"T_3a61f01a_b815_11ec_a9ff_00bb60ab5d64row2_col0\" class=\"data row2 col0\" >0</td>\n",
       "                        <td id=\"T_3a61f01a_b815_11ec_a9ff_00bb60ab5d64row2_col1\" class=\"data row2 col1\" >100,000</td>\n",
       "                        <td id=\"T_3a61f01a_b815_11ec_a9ff_00bb60ab5d64row2_col2\" class=\"data row2 col2\" >0.00%</td>\n",
       "            </tr>\n",
       "            <tr>\n",
       "                        <th id=\"T_3a61f01a_b815_11ec_a9ff_00bb60ab5d64level0_row3\" class=\"row_heading level0 row3\" >product</th>\n",
       "                        <td id=\"T_3a61f01a_b815_11ec_a9ff_00bb60ab5d64row3_col0\" class=\"data row3 col0\" >0</td>\n",
       "                        <td id=\"T_3a61f01a_b815_11ec_a9ff_00bb60ab5d64row3_col1\" class=\"data row3 col1\" >100,000</td>\n",
       "                        <td id=\"T_3a61f01a_b815_11ec_a9ff_00bb60ab5d64row3_col2\" class=\"data row3 col2\" >0.00%</td>\n",
       "            </tr>\n",
       "    </tbody></table>"
      ],
      "text/plain": [
       "<pandas.io.formats.style.Styler at 0x1ca63401630>"
      ]
     },
     "execution_count": 15,
     "metadata": {},
     "output_type": "execute_result"
    }
   ],
   "source": [
    "region_two.stb.missing(style = True)"
   ]
  },
  {
   "cell_type": "markdown",
   "id": "69a316ec",
   "metadata": {},
   "source": [
    "Great!\n",
    "\n",
    "We don't have missing values in non of the datasets - it's our lucky day! :)"
   ]
  },
  {
   "cell_type": "markdown",
   "id": "64ef46ce",
   "metadata": {},
   "source": [
    "**Duplicates**"
   ]
  },
  {
   "cell_type": "markdown",
   "id": "e74a4c2e",
   "metadata": {},
   "source": [
    "Let's check if there are any duplicates. "
   ]
  },
  {
   "cell_type": "code",
   "execution_count": 16,
   "id": "b34fa8dc",
   "metadata": {},
   "outputs": [
    {
     "data": {
      "text/plain": [
       "0"
      ]
     },
     "execution_count": 16,
     "metadata": {},
     "output_type": "execute_result"
    }
   ],
   "source": [
    "region_zero.duplicated().sum()"
   ]
  },
  {
   "cell_type": "code",
   "execution_count": 17,
   "id": "5f014d25",
   "metadata": {},
   "outputs": [
    {
     "data": {
      "text/plain": [
       "0"
      ]
     },
     "execution_count": 17,
     "metadata": {},
     "output_type": "execute_result"
    }
   ],
   "source": [
    "region_one.duplicated().sum()"
   ]
  },
  {
   "cell_type": "code",
   "execution_count": 18,
   "id": "0c96fdb3",
   "metadata": {},
   "outputs": [
    {
     "data": {
      "text/plain": [
       "0"
      ]
     },
     "execution_count": 18,
     "metadata": {},
     "output_type": "execute_result"
    }
   ],
   "source": [
    "region_two.duplicated().sum()"
   ]
  },
  {
   "cell_type": "markdown",
   "id": "65cf9e23",
   "metadata": {},
   "source": [
    "No duplicates!"
   ]
  },
  {
   "cell_type": "markdown",
   "id": "9a59fac2",
   "metadata": {},
   "source": [
    "**Distribution of the variables**"
   ]
  },
  {
   "cell_type": "code",
   "execution_count": 19,
   "id": "9dad1d87",
   "metadata": {},
   "outputs": [],
   "source": [
    "def dis(data):\n",
    "    data.hist(edgecolor = 'black', linewidth = 1.2, figsize = (10,10))\n",
    "    plt.show()"
   ]
  },
  {
   "cell_type": "code",
   "execution_count": 20,
   "id": "dc3fae98",
   "metadata": {},
   "outputs": [
    {
     "data": {
      "image/png": "[encoded data removed]",
      "text/plain": [
       "<Figure size 720x720 with 4 Axes>"
      ]
     },
     "metadata": {
      "needs_background": "light"
     },
     "output_type": "display_data"
    }
   ],
   "source": [
    "dis(region_zero)"
   ]
  },
  {
   "cell_type": "markdown",
   "id": "2f69b660",
   "metadata": {},
   "source": [
    "All variables (the independent and the dependent), except **f1** are distributed pretty much normally. The **f1** variable has a uniform distribution."
   ]
  },
  {
   "cell_type": "code",
   "execution_count": 21,
   "id": "9bfd2a72",
   "metadata": {},
   "outputs": [
    {
     "data": {
      "image/png": "[encoded data removed]",
      "text/plain": [
       "<Figure size 720x720 with 4 Axes>"
      ]
     },
     "metadata": {
      "needs_background": "light"
     },
     "output_type": "display_data"
    }
   ],
   "source": [
    "dis(region_one)"
   ]
  },
  {
   "cell_type": "markdown",
   "id": "3e37611d",
   "metadata": {},
   "source": [
    "Here we see that **f0 and f1** have a pretty normal distribution, while **f2** has very strange and unorganized distribution and the product variable (our dependent variable) has a pretty uniform distribution. "
   ]
  },
  {
   "cell_type": "code",
   "execution_count": 22,
   "id": "14f0593f",
   "metadata": {},
   "outputs": [
    {
     "data": {
      "image/png": "[encoded data removed]",
      "text/plain": [
       "<Figure size 720x720 with 4 Axes>"
      ]
     },
     "metadata": {
      "needs_background": "light"
     },
     "output_type": "display_data"
    }
   ],
   "source": [
    "dis(region_two)"
   ]
  },
  {
   "cell_type": "markdown",
   "id": "ef860e40",
   "metadata": {},
   "source": [
    "For region 2, it seems that all the variables distribute pretty much normally. \n",
    "\n",
    "Let's go check for outliers."
   ]
  },
  {
   "cell_type": "markdown",
   "id": "9b7f45b4",
   "metadata": {},
   "source": [
    "**Outliers**"
   ]
  },
  {
   "cell_type": "markdown",
   "id": "1cbc33b6",
   "metadata": {},
   "source": [
    "**region zero**"
   ]
  },
  {
   "cell_type": "code",
   "execution_count": 23,
   "id": "b4243755",
   "metadata": {},
   "outputs": [
    {
     "data": {
      "image/png": "[encoded data removed]",
      "text/plain": [
       "<Figure size 1080x720 with 4 Axes>"
      ]
     },
     "metadata": {
      "needs_background": "light"
     },
     "output_type": "display_data"
    }
   ],
   "source": [
    "col = region_zero.columns\n",
    "fig = plt.figure(figsize =(15, 10))\n",
    "fig.subplots_adjust(hspace=0.4, wspace=0.4)\n",
    "for i in range(1,len(col)+1):\n",
    "    ax = fig.add_subplot(2, 2, i)\n",
    "    region_zero.boxplot(col[i-1])\n",
    "    Q1 = region_zero[col[i-1]].quantile(0.25)\n",
    "    Q3 = region_zero[col[i-1]].quantile(0.75)\n",
    "    plt.hlines(y=[Q1,Q3], xmin = 0.9, xmax = 1.1, color = 'red')"
   ]
  },
  {
   "cell_type": "markdown",
   "id": "e0c84120",
   "metadata": {},
   "source": [
    "Here we see that only one variable has outliers - the **f2** feature. The boxplot shows us that a value that is above 10 or beneath -6 is an outlier. For our model training, we need the cleanest data that we can possibly obtain. Outliers can damage the model training ann lead to inaccurate predictions. In order to avoid it, we will delete these values for the **f2** feature. \n",
    "\n",
    "Let's go."
   ]
  },
  {
   "cell_type": "code",
   "execution_count": 24,
   "id": "073cf48c",
   "metadata": {},
   "outputs": [],
   "source": [
    "Q1_reg0 = region_zero['f2'].quantile(0.25)\n",
    "Q3_reg0 = region_zero['f2'].quantile(0.75)\n",
    "IQR_reg0 = Q3_reg0 - Q1_reg0\n",
    "box_max_0 = math.floor(Q3_reg0 + 1.5*IQR_reg0)\n",
    "box_min_0 = math.ceil(Q1_reg0 - 1.5*IQR_reg0)"
   ]
  },
  {
   "cell_type": "code",
   "execution_count": 25,
   "id": "318ffab8",
   "metadata": {},
   "outputs": [],
   "source": [
    "region_zero.drop(region_zero[\n",
    "    (region_zero['f2'] > box_max_0) | (region_zero['f2'] < box_min_0)].index, inplace = True)"
   ]
  },
  {
   "cell_type": "code",
   "execution_count": 26,
   "id": "aa094ac1",
   "metadata": {},
   "outputs": [
    {
     "name": "stdout",
     "output_type": "stream",
     "text": [
      "Max value of the f2 feature after filtering (max 11 ) 11.0\n",
      "Min value of the f2 feature after filtering (min -6 ) -5.99\n"
     ]
    }
   ],
   "source": [
    "print('Max value of the f2 feature after filtering','(max', box_max_0,')', round(region_zero['f2'].max(), 2))\n",
    "print('Min value of the f2 feature after filtering','(min', box_min_0,')', round(region_zero['f2'].min(), 2))"
   ]
  },
  {
   "cell_type": "markdown",
   "id": "d2cf0221",
   "metadata": {},
   "source": [
    "Great!\n",
    "\n",
    "Let's look again on the boxplot of the variables."
   ]
  },
  {
   "cell_type": "code",
   "execution_count": 27,
   "id": "52369fab",
   "metadata": {},
   "outputs": [
    {
     "data": {
      "image/png": "[encoded data removed]",
      "text/plain": [
       "<Figure size 1080x720 with 4 Axes>"
      ]
     },
     "metadata": {
      "needs_background": "light"
     },
     "output_type": "display_data"
    }
   ],
   "source": [
    "col = region_zero.columns\n",
    "fig = plt.figure(figsize =(15, 10))\n",
    "fig.subplots_adjust(hspace=0.4, wspace=0.4)\n",
    "for i in range(1,len(col)+1):\n",
    "    ax = fig.add_subplot(2, 2, i)\n",
    "    region_zero.boxplot(col[i-1])\n",
    "    Q1 = region_zero[col[i-1]].quantile(0.25)\n",
    "    Q3 = region_zero[col[i-1]].quantile(0.75)\n",
    "    plt.hlines(y=[Q1,Q3], xmin = 0.9, xmax = 1.1, color = 'red')"
   ]
  },
  {
   "cell_type": "markdown",
   "id": "86f2a023",
   "metadata": {},
   "source": [
    "Excellent!\n",
    "\n",
    "The filtering worked, now we don't have outliers in the data of region zero. \n",
    "\n",
    "Let's move on to the next region."
   ]
  },
  {
   "cell_type": "markdown",
   "id": "3be410bd",
   "metadata": {},
   "source": [
    "**region one**"
   ]
  },
  {
   "cell_type": "code",
   "execution_count": 28,
   "id": "c60a5e30",
   "metadata": {},
   "outputs": [
    {
     "data": {
      "image/png": "[encoded data removed]",
      "text/plain": [
       "<Figure size 1080x720 with 4 Axes>"
      ]
     },
     "metadata": {
      "needs_background": "light"
     },
     "output_type": "display_data"
    }
   ],
   "source": [
    "col = region_one.columns\n",
    "fig = plt.figure(figsize =(15, 10))\n",
    "fig.subplots_adjust(hspace=0.4, wspace=0.4)\n",
    "for i in range(1,len(col)+1):\n",
    "    ax = fig.add_subplot(2, 2, i)\n",
    "    region_one.boxplot(col[i-1])\n",
    "    Q1 = region_one[col[i-1]].quantile(0.25)\n",
    "    Q3 = region_one[col[i-1]].quantile(0.75)\n",
    "    plt.hlines(y=[Q1,Q3], xmin = 0.9, xmax = 1.1, color = 'red')"
   ]
  },
  {
   "cell_type": "markdown",
   "id": "8854d9e1",
   "metadata": {},
   "source": [
    "The output shows us that the data for region one contain outliers in the **f1** feature. As mentioned before, we want the cleanest data possible for our model training, so here also we will delete the outliers to prevent them from damaging the accuracy of the predictions. \n",
    "\n",
    "The box plot shows that every value that is above 8 or beneath -18 is an outlier. We will remove these values from the data of region one."
   ]
  },
  {
   "cell_type": "code",
   "execution_count": 29,
   "id": "2093ce6e",
   "metadata": {},
   "outputs": [],
   "source": [
    "Q1_reg1 = region_one['f1'].quantile(0.25)\n",
    "Q3_reg1 = region_one['f1'].quantile(0.75)\n",
    "IQR_reg1 = Q3_reg1 - Q1_reg1\n",
    "box_max_1 = math.floor(Q3_reg1 + 1.5*IQR_reg1)\n",
    "box_min_1 = math.ceil(Q1_reg1 - 1.5*IQR_reg1)"
   ]
  },
  {
   "cell_type": "code",
   "execution_count": 30,
   "id": "067b4d1d",
   "metadata": {},
   "outputs": [],
   "source": [
    "region_one.drop(region_one[\n",
    "    (region_one['f1'] > box_max_1) | (region_one['f1'] < box_min_1)].index, inplace = True)"
   ]
  },
  {
   "cell_type": "code",
   "execution_count": 31,
   "id": "48cba32c",
   "metadata": {},
   "outputs": [
    {
     "name": "stdout",
     "output_type": "stream",
     "text": [
      "Max value of the f1 feature after filtering (max 9 ) 8.99\n",
      "Min value of the f1 feature after filtering (min -18 ) -18.0\n"
     ]
    }
   ],
   "source": [
    "print('Max value of the f1 feature after filtering','(max', box_max_1,')', round(region_one['f1'].max(), 2))\n",
    "print('Min value of the f1 feature after filtering','(min', box_min_1,')', round(region_one['f1'].min(), 2))"
   ]
  },
  {
   "cell_type": "markdown",
   "id": "f90604ee",
   "metadata": {},
   "source": [
    "Great!\n",
    "\n",
    "Now let's look at the boxplots again after the filtering to make sure that everything is o.k."
   ]
  },
  {
   "cell_type": "code",
   "execution_count": 32,
   "id": "f01b02d0",
   "metadata": {},
   "outputs": [
    {
     "data": {
      "image/png": "[encoded data removed]",
      "text/plain": [
       "<Figure size 1080x720 with 4 Axes>"
      ]
     },
     "metadata": {
      "needs_background": "light"
     },
     "output_type": "display_data"
    }
   ],
   "source": [
    "col = region_one.columns\n",
    "fig = plt.figure(figsize =(15, 10))\n",
    "fig.subplots_adjust(hspace=0.4, wspace=0.4)\n",
    "for i in range(1,len(col)+1):\n",
    "    ax = fig.add_subplot(2, 2, i)\n",
    "    region_one.boxplot(col[i-1])\n",
    "    Q1 = region_one[col[i-1]].quantile(0.25)\n",
    "    Q3 = region_one[col[i-1]].quantile(0.75)\n",
    "    plt.hlines(y=[Q1,Q3], xmin = 0.9, xmax = 1.1, color = 'red')"
   ]
  },
  {
   "cell_type": "markdown",
   "id": "9ea1343d",
   "metadata": {},
   "source": [
    "We still see in the boxplot of variable **f1** that there left some outliers. Let's take care of them."
   ]
  },
  {
   "cell_type": "code",
   "execution_count": 33,
   "id": "d95bfe8b",
   "metadata": {},
   "outputs": [],
   "source": [
    "Q1_reg1 = region_one['f1'].quantile(0.25)\n",
    "Q3_reg1 = region_one['f1'].quantile(0.75)\n",
    "IQR_reg1 = Q3_reg1 - Q1_reg1\n",
    "box_max_1 = math.floor(Q3_reg1 + 1.5*IQR_reg1)\n",
    "box_min_1 = math.ceil(Q1_reg1 - 1.5*IQR_reg1)"
   ]
  },
  {
   "cell_type": "code",
   "execution_count": 34,
   "id": "eb8a99ab",
   "metadata": {},
   "outputs": [],
   "source": [
    "region_one.drop(region_one[\n",
    "    (region_one['f1'] > box_max_1) | (region_one['f1'] < box_min_1)].index, inplace = True)"
   ]
  },
  {
   "cell_type": "code",
   "execution_count": 35,
   "id": "4b40477a",
   "metadata": {},
   "outputs": [
    {
     "name": "stdout",
     "output_type": "stream",
     "text": [
      "Max value of the f1 feature after filtering (max 8 ) 8.0\n",
      "Min value of the f1 feature after filtering (min -18 ) -18.0\n"
     ]
    }
   ],
   "source": [
    "print('Max value of the f1 feature after filtering','(max', box_max_1,')', round(region_one['f1'].max(), 2))\n",
    "print('Min value of the f1 feature after filtering','(min', box_min_1,')', round(region_one['f1'].min(), 2))"
   ]
  },
  {
   "cell_type": "markdown",
   "id": "ccf3e1f3",
   "metadata": {},
   "source": [
    "Great!\n",
    "\n",
    "Let's check the boxplot now."
   ]
  },
  {
   "cell_type": "code",
   "execution_count": 36,
   "id": "ed160dfc",
   "metadata": {},
   "outputs": [
    {
     "data": {
      "image/png": "[encoded data removed]",
      "text/plain": [
       "<Figure size 1080x720 with 4 Axes>"
      ]
     },
     "metadata": {
      "needs_background": "light"
     },
     "output_type": "display_data"
    }
   ],
   "source": [
    "col = region_one.columns\n",
    "fig = plt.figure(figsize =(15, 10))\n",
    "fig.subplots_adjust(hspace=0.4, wspace=0.4)\n",
    "for i in range(1,len(col)+1):\n",
    "    ax = fig.add_subplot(2, 2, i)\n",
    "    region_one.boxplot(col[i-1])\n",
    "    Q1 = region_one[col[i-1]].quantile(0.25)\n",
    "    Q3 = region_one[col[i-1]].quantile(0.75)\n",
    "    plt.hlines(y=[Q1,Q3], xmin = 0.9, xmax = 1.1, color = 'red')"
   ]
  },
  {
   "cell_type": "markdown",
   "id": "ec807315",
   "metadata": {},
   "source": [
    "Nice!\n",
    "\n",
    "Let's move on to the next region."
   ]
  },
  {
   "cell_type": "markdown",
   "id": "80bef874",
   "metadata": {},
   "source": [
    "**region two**"
   ]
  },
  {
   "cell_type": "code",
   "execution_count": 37,
   "id": "266e4e6f",
   "metadata": {},
   "outputs": [
    {
     "data": {
      "image/png": "[encoded data removed]",
      "text/plain": [
       "<Figure size 1080x720 with 4 Axes>"
      ]
     },
     "metadata": {
      "needs_background": "light"
     },
     "output_type": "display_data"
    }
   ],
   "source": [
    "col = region_two.columns\n",
    "fig = plt.figure(figsize =(15, 10))\n",
    "fig.subplots_adjust(hspace=0.4, wspace=0.4)\n",
    "for i in range(1,len(col)+1):\n",
    "    ax = fig.add_subplot(2, 2, i)\n",
    "    region_two.boxplot(col[i-1])\n",
    "    Q1 = region_two[col[i-1]].quantile(0.25)\n",
    "    Q3 = region_two[col[i-1]].quantile(0.75)\n",
    "    plt.hlines(y=[Q1,Q3], xmin = 0.9, xmax = 1.1, color = 'red')"
   ]
  },
  {
   "cell_type": "markdown",
   "id": "92caa153",
   "metadata": {},
   "source": [
    "This data set has outliers in all 3 features! Lucky we checked it out. Now we will remove them by the values that the boxplots indicate us."
   ]
  },
  {
   "cell_type": "code",
   "execution_count": 38,
   "id": "746c51fe",
   "metadata": {},
   "outputs": [],
   "source": [
    "# Feature f0 quantiles\n",
    "Q1_fo = region_two['f0'].quantile(0.25)\n",
    "Q3_fo = region_two['f0'].quantile(0.75)\n",
    "IQR_fo = Q3_fo - Q1_fo \n",
    "box_max_f0 = math.floor(Q3_fo + 1.5*IQR_fo)\n",
    "box_min_f0 = math.ceil(Q1_fo - 1.5*IQR_fo)\n",
    "\n",
    "# Feature f1 quantiles\n",
    "Q1_f1 = region_two['f1'].quantile(0.25)\n",
    "Q3_f1 = region_two['f1'].quantile(0.75)\n",
    "IQR_f1 = Q3_f1 - Q1_f1 \n",
    "box_max_f1 = math.floor(Q3_f1 + 1.5*IQR_f1)\n",
    "box_min_f1 = math.ceil(Q1_f1 - 1.5*IQR_f1)\n",
    "\n",
    "# Feature f2 quantiles\n",
    "Q1_f2 = region_two['f2'].quantile(0.25)\n",
    "Q3_f2 = region_two['f2'].quantile(0.75)\n",
    "IQR_f2 = Q3_f2 - Q1_f2 \n",
    "box_max_f2 = math.floor(Q3_f2 + 1.5*IQR_f2)\n",
    "box_min_f2 = math.ceil(Q1_f2 - 1.5*IQR_f2)"
   ]
  },
  {
   "cell_type": "code",
   "execution_count": 39,
   "id": "ba3f642a",
   "metadata": {},
   "outputs": [],
   "source": [
    "region_two.drop(region_two[(region_two['f0']  > box_max_f0) | (region_two['f0'] < box_min_f0)].index, inplace = True)\n",
    "region_two.drop(region_two[(region_two['f1']  > box_max_f1) | (region_two['f1'] < box_min_f1)].index, inplace = True)\n",
    "region_two.drop(region_two[(region_two['f2']  > box_max_f2) | (region_two['f2'] < box_min_f2)].index, inplace = True)"
   ]
  },
  {
   "cell_type": "code",
   "execution_count": 40,
   "id": "25cbaba7",
   "metadata": {},
   "outputs": [
    {
     "name": "stdout",
     "output_type": "stream",
     "text": [
      "Max value of the f0 feature after filtering (max 4 ) 4.0\n",
      "Min value of the f0 feature after filtering (min -4 ) -4.0\n",
      "===================================================================\n",
      "Max value of the f1 feature after filtering (max 4 ) 4.0\n",
      "Min value of the f1 feature after filtering (min -4 ) -4.0\n",
      "===================================================================\n",
      "Max value of the f2 feature after filtering (max 11 ) 11.0\n",
      "Min value of the f2 feature after filtering (min -6 ) -6.0\n",
      "===================================================================\n"
     ]
    }
   ],
   "source": [
    "col = region_two.columns\n",
    "box_max = [box_max_f0, box_max_f1, box_max_f2]\n",
    "box_min = [box_min_f0, box_min_f1, box_min_f2]\n",
    "for i in range(len(col)-1):\n",
    "    print('Max value of the', col[i] ,'feature after filtering','(max', box_max[i],')', round(region_two[col[i]].max(), 2))\n",
    "    print('Min value of the', col[i] ,'feature after filtering','(min', box_min[i],')', round(region_two[col[i]].min(), 2))\n",
    "    print('===================================================================')"
   ]
  },
  {
   "cell_type": "markdown",
   "id": "2f724c18",
   "metadata": {},
   "source": [
    "Awesome! \n",
    "\n",
    "Now let's plot against the box plots to be certain that everything is alright."
   ]
  },
  {
   "cell_type": "code",
   "execution_count": 41,
   "id": "304be43f",
   "metadata": {},
   "outputs": [
    {
     "data": {
      "image/png": "[encoded data removed]",
      "text/plain": [
       "<Figure size 1080x720 with 4 Axes>"
      ]
     },
     "metadata": {
      "needs_background": "light"
     },
     "output_type": "display_data"
    }
   ],
   "source": [
    "col = region_two.columns\n",
    "fig = plt.figure(figsize =(15, 10))\n",
    "fig.subplots_adjust(hspace=0.4, wspace=0.4)\n",
    "for i in range(1,len(col)+1):\n",
    "    ax = fig.add_subplot(2, 2, i)\n",
    "    region_two.boxplot(col[i-1])\n",
    "    Q1 = region_two[col[i-1]].quantile(0.25)\n",
    "    Q3 = region_two[col[i-1]].quantile(0.75)\n",
    "    plt.hlines(y=[Q1,Q3], xmin = 0.9, xmax = 1.1, color = 'red')"
   ]
  },
  {
   "cell_type": "markdown",
   "id": "f392f43c",
   "metadata": {},
   "source": [
    "Great!\n",
    "\n",
    "We removed the outliers from all the 3 features in the data of region two. Let's check just for curiosity how much data we removed.\n",
    "\n",
    "We know from earlier that all three data sets have 100,000 rows. So we will use this number to find out how much data we lost."
   ]
  },
  {
   "cell_type": "code",
   "execution_count": 42,
   "id": "3602eafc",
   "metadata": {},
   "outputs": [
    {
     "name": "stdout",
     "output_type": "stream",
     "text": [
      "Region zero data lost: 0.75%\n",
      "===========================\n",
      "Region one data lost: 1.09%\n",
      "===========================\n",
      "Region two data lost: 5.42%\n",
      "===========================\n"
     ]
    }
   ],
   "source": [
    "regions = [region_zero, region_one, region_two]\n",
    "region_name=['Region zero', 'Region one', 'Region two']\n",
    "for i in range(len(regions)):\n",
    "    print(region_name[i],'data lost: {:.2%}'.format(1- len(regions[i])/100000))\n",
    "    print('===========================')"
   ]
  },
  {
   "cell_type": "markdown",
   "id": "e27dd248",
   "metadata": {},
   "source": [
    "Region two lost the largest amount of data - it makes sense because it had outliers in all its 3 features. \n",
    "The other 2 regions lost a very little amount of data, around 1%. Overall, the loss of data when removing the outliers wasn't so big, so it won't damage our analysis and model training. "
   ]
  },
  {
   "cell_type": "markdown",
   "id": "feac69fb",
   "metadata": {},
   "source": [
    "**Correlation**\n",
    "\n",
    "Let's check how our variables correlate with each other."
   ]
  },
  {
   "cell_type": "markdown",
   "id": "f69c7f4e",
   "metadata": {},
   "source": [
    "**region zero**"
   ]
  },
  {
   "cell_type": "code",
   "execution_count": 43,
   "id": "d5321829",
   "metadata": {},
   "outputs": [],
   "source": [
    "# Building a heat map correlation function\n",
    "def corr(data):\n",
    "    plt.figure(figsize=(15,5))\n",
    "    ax = sns.heatmap(region_zero.corr(), annot=True, cmap='cividis')\n",
    "    bottom, top = ax.get_ylim()\n",
    "    ax.set_ylim(bottom + 0.5, top - 0.5);\n",
    "    plt.yticks(rotation=0);"
   ]
  },
  {
   "cell_type": "code",
   "execution_count": 44,
   "id": "873a89bb",
   "metadata": {},
   "outputs": [
    {
     "data": {
      "image/png": "[encoded data removed]",
      "text/plain": [
       "<Figure size 1080x360 with 2 Axes>"
      ]
     },
     "metadata": {
      "needs_background": "light"
     },
     "output_type": "display_data"
    }
   ],
   "source": [
    "corr(region_zero)"
   ]
  },
  {
   "cell_type": "markdown",
   "id": "58d06d1c",
   "metadata": {},
   "source": [
    "The heat map that visualizes the correlation between the variables shows us that the connection between them is quite weak. The interesting thing that we see here is that among all features, **f2** seems to have the greatest influence on the target variable - **product**. The correlation value between the feature **f2** and the target variable **product** is 0.48 - which is not very high, but it's the highest in comparison to the other features in this particular dataset. "
   ]
  },
  {
   "cell_type": "markdown",
   "id": "004058c5",
   "metadata": {},
   "source": [
    "**region one**"
   ]
  },
  {
   "cell_type": "code",
   "execution_count": 45,
   "id": "5ac3823e",
   "metadata": {},
   "outputs": [
    {
     "data": {
      "image/png": "[encoded data removed]",
      "text/plain": [
       "<Figure size 1080x360 with 2 Axes>"
      ]
     },
     "metadata": {
      "needs_background": "light"
     },
     "output_type": "display_data"
    }
   ],
   "source": [
    "corr(region_one)"
   ]
  },
  {
   "cell_type": "markdown",
   "id": "be670d2b",
   "metadata": {},
   "source": [
    "Here also we see that the correlation between the variables is quite weak. The same as we noticed in the previous dataset, the feature **f2** has the greatest influence on the target variable - **product**. The correlation value of these two variables is like on the previous dataset - 0.48. "
   ]
  },
  {
   "cell_type": "markdown",
   "id": "0a310623",
   "metadata": {},
   "source": [
    "**region two**"
   ]
  },
  {
   "cell_type": "code",
   "execution_count": 46,
   "id": "f7275047",
   "metadata": {},
   "outputs": [
    {
     "data": {
      "image/png": "[encoded data removed]",
      "text/plain": [
       "<Figure size 1080x360 with 2 Axes>"
      ]
     },
     "metadata": {
      "needs_background": "light"
     },
     "output_type": "display_data"
    }
   ],
   "source": [
    "corr(region_two)"
   ]
  },
  {
   "cell_type": "markdown",
   "id": "2a114bf5",
   "metadata": {},
   "source": [
    "Same results here. The feature **f2** has the greatest influence on the target variable **product** and has the same correlation value as in the other two datasets - 0.48.\n",
    "\n",
    "So, an overall conclusion can be that the feature **f2** has the biggest influence and the strongest connection to the target variable **product** in all three regions. "
   ]
  },
  {
   "cell_type": "markdown",
   "id": "f9935dd6",
   "metadata": {},
   "source": [
    "Great!\n",
    "\n",
    "Let's move on to the next region."
   ]
  },
  {
   "cell_type": "markdown",
   "id": "fe191616",
   "metadata": {},
   "source": [
    "Our features for all three datasets are standardized!\n",
    "\n",
    "**Summary**\n",
    "\n",
    "In this step, we learned and also prepared the data for our model training and predictions. We examined the following:\n",
    "1. missing values\n",
    "2. duplicates\n",
    "3. distribution of the variables\n",
    "4. outliers\n",
    "5. correlation\n",
    "\n",
    "Now our data is ready for our ML model to predict what is the best place for a new well.\n",
    "\n",
    "Let's go!"
   ]
  },
  {
   "cell_type": "markdown",
   "id": "b432eccd",
   "metadata": {},
   "source": [
    "## 2. Train and test the model for each region:"
   ]
  },
  {
   "cell_type": "markdown",
   "id": "db0de11d",
   "metadata": {},
   "source": [
    "**2.1. Split the data into a training set and validation set at a ratio of 75:25.**"
   ]
  },
  {
   "cell_type": "code",
   "execution_count": 47,
   "id": "f8dd0869",
   "metadata": {},
   "outputs": [
    {
     "name": "stdout",
     "output_type": "stream",
     "text": [
      "Region zero data split ratio: test-75% valid-25%\n",
      "Region one data split ratio: test-75% valid-25%\n",
      "Region two data split ratio: test-75% valid-25%\n"
     ]
    }
   ],
   "source": [
    "# Region zero split to train and validation\n",
    "train_0, valid_0 = train_test_split(region_zero, test_size = 0.25, random_state = 12345, shuffle = True)\n",
    "\n",
    "# Region one split to train and validation\n",
    "train_1, valid_1 = train_test_split(region_one, test_size = 0.25, random_state = 12345, shuffle = True)\n",
    "\n",
    "# Region two split to train and validation\n",
    "train_2, valid_2 = train_test_split(region_two, test_size = 0.25, random_state = 12345, shuffle = True)\n",
    "\n",
    "# Checking that the splitting of the data was done correctly\n",
    "train=[train_0, train_1, train_2]\n",
    "valid = [valid_0, valid_1, valid_2]\n",
    "for i in range(len(train)):\n",
    "    print(region_name[i], 'data split ratio: test-{:.0%}'.format(len(train[i])/len(regions[i])), \n",
    "          'valid-{:.0%}'.format(len(valid[i])/len(regions[i])))"
   ]
  },
  {
   "cell_type": "markdown",
   "id": "e583253c",
   "metadata": {},
   "source": [
    "Excellent!\n",
    "\n",
    "Let's move on."
   ]
  },
  {
   "cell_type": "markdown",
   "id": "9724b6ba",
   "metadata": {},
   "source": [
    "**2.2. Train the model and make predictions for the validation set.**"
   ]
  },
  {
   "cell_type": "markdown",
   "id": "25b652b7",
   "metadata": {},
   "source": [
    "Now let's standardize the features in each region. "
   ]
  },
  {
   "cell_type": "code",
   "execution_count": 48,
   "id": "e530ecc8",
   "metadata": {},
   "outputs": [],
   "source": [
    "# Creating a list with all features\n",
    "numeric = ['f0', 'f1', 'f2']\n",
    "\n",
    "# Intializing the scaler\n",
    "scaler = StandardScaler()"
   ]
  },
  {
   "cell_type": "markdown",
   "id": "0ae26b15",
   "metadata": {},
   "source": [
    "**region zero**"
   ]
  },
  {
   "cell_type": "code",
   "execution_count": 49,
   "id": "dae4b347",
   "metadata": {},
   "outputs": [],
   "source": [
    "# Tuning the scaler (calculating the mean and variance) and transforming the test set\n",
    "scaler.fit(train_0[numeric])\n",
    "train_0[numeric] = scaler.transform(train_0[numeric])\n",
    "\n",
    "# Transforming the valid set \n",
    "valid_0[numeric] = scaler.transform(valid_0[numeric])"
   ]
  },
  {
   "cell_type": "code",
   "execution_count": 50,
   "id": "0bc33447",
   "metadata": {},
   "outputs": [
    {
     "data": {
      "text/html": [
       "<div>\n",
       "<style scoped>\n",
       "    .dataframe tbody tr th:only-of-type {\n",
       "        vertical-align: middle;\n",
       "    }\n",
       "\n",
       "    .dataframe tbody tr th {\n",
       "        vertical-align: top;\n",
       "    }\n",
       "\n",
       "    .dataframe thead th {\n",
       "        text-align: right;\n",
       "    }\n",
       "</style>\n",
       "<table border=\"1\" class=\"dataframe\">\n",
       "  <thead>\n",
       "    <tr style=\"text-align: right;\">\n",
       "      <th></th>\n",
       "      <th>f0</th>\n",
       "      <th>f1</th>\n",
       "      <th>f2</th>\n",
       "      <th>product</th>\n",
       "    </tr>\n",
       "  </thead>\n",
       "  <tbody>\n",
       "    <tr>\n",
       "      <th>37058</th>\n",
       "      <td>0.067748</td>\n",
       "      <td>1.355414</td>\n",
       "      <td>-0.235102</td>\n",
       "      <td>26.251373</td>\n",
       "    </tr>\n",
       "    <tr>\n",
       "      <th>8688</th>\n",
       "      <td>-0.681840</td>\n",
       "      <td>-0.288630</td>\n",
       "      <td>-0.529047</td>\n",
       "      <td>88.182683</td>\n",
       "    </tr>\n",
       "    <tr>\n",
       "      <th>21535</th>\n",
       "      <td>-0.229186</td>\n",
       "      <td>-0.932455</td>\n",
       "      <td>-1.857592</td>\n",
       "      <td>68.066363</td>\n",
       "    </tr>\n",
       "  </tbody>\n",
       "</table>\n",
       "</div>"
      ],
      "text/plain": [
       "             f0        f1        f2    product\n",
       "37058  0.067748  1.355414 -0.235102  26.251373\n",
       "8688  -0.681840 -0.288630 -0.529047  88.182683\n",
       "21535 -0.229186 -0.932455 -1.857592  68.066363"
      ]
     },
     "execution_count": 50,
     "metadata": {},
     "output_type": "execute_result"
    }
   ],
   "source": [
    "train_0.head(3)"
   ]
  },
  {
   "cell_type": "code",
   "execution_count": 51,
   "id": "7515680c",
   "metadata": {},
   "outputs": [
    {
     "data": {
      "text/html": [
       "<div>\n",
       "<style scoped>\n",
       "    .dataframe tbody tr th:only-of-type {\n",
       "        vertical-align: middle;\n",
       "    }\n",
       "\n",
       "    .dataframe tbody tr th {\n",
       "        vertical-align: top;\n",
       "    }\n",
       "\n",
       "    .dataframe thead th {\n",
       "        text-align: right;\n",
       "    }\n",
       "</style>\n",
       "<table border=\"1\" class=\"dataframe\">\n",
       "  <thead>\n",
       "    <tr style=\"text-align: right;\">\n",
       "      <th></th>\n",
       "      <th>f0</th>\n",
       "      <th>f1</th>\n",
       "      <th>f2</th>\n",
       "      <th>product</th>\n",
       "    </tr>\n",
       "  </thead>\n",
       "  <tbody>\n",
       "    <tr>\n",
       "      <th>95307</th>\n",
       "      <td>-0.717194</td>\n",
       "      <td>1.556864</td>\n",
       "      <td>0.812937</td>\n",
       "      <td>129.176157</td>\n",
       "    </tr>\n",
       "    <tr>\n",
       "      <th>69336</th>\n",
       "      <td>-0.946367</td>\n",
       "      <td>1.770864</td>\n",
       "      <td>-0.064628</td>\n",
       "      <td>33.533108</td>\n",
       "    </tr>\n",
       "    <tr>\n",
       "      <th>39940</th>\n",
       "      <td>0.325683</td>\n",
       "      <td>-1.529305</td>\n",
       "      <td>-0.457066</td>\n",
       "      <td>82.037757</td>\n",
       "    </tr>\n",
       "  </tbody>\n",
       "</table>\n",
       "</div>"
      ],
      "text/plain": [
       "             f0        f1        f2     product\n",
       "95307 -0.717194  1.556864  0.812937  129.176157\n",
       "69336 -0.946367  1.770864 -0.064628   33.533108\n",
       "39940  0.325683 -1.529305 -0.457066   82.037757"
      ]
     },
     "execution_count": 51,
     "metadata": {},
     "output_type": "execute_result"
    }
   ],
   "source": [
    "valid_0.head(3)"
   ]
  },
  {
   "cell_type": "code",
   "execution_count": 52,
   "id": "5cd0391e",
   "metadata": {},
   "outputs": [
    {
     "name": "stdout",
     "output_type": "stream",
     "text": [
      "Train set region zero mean and variance:\n",
      "\n",
      "Mean of f0 feature: 0\n",
      "Variance of f0 feature: 1\n",
      "=========================\n",
      "Mean of f1 feature: 0\n",
      "Variance of f1 feature: 1\n",
      "=========================\n",
      "Mean of f2 feature: 0\n",
      "Variance of f2 feature: 1\n",
      "=========================\n"
     ]
    }
   ],
   "source": [
    "print('Train set region zero mean and variance:')\n",
    "print()\n",
    "for i in range(len(numeric)):\n",
    "    print('Mean of', numeric[i], 'feature:', round(train_0[numeric[i]].mean()))\n",
    "    print('Variance of', numeric[i], 'feature:', round(train_0[numeric[i]].var()))\n",
    "    print('=========================')"
   ]
  },
  {
   "cell_type": "code",
   "execution_count": 53,
   "id": "8faf60c1",
   "metadata": {},
   "outputs": [
    {
     "name": "stdout",
     "output_type": "stream",
     "text": [
      "Valid set region zero mean and variance:\n",
      "\n",
      "Mean of f0 feature: 0\n",
      "Variance of f0 feature: 1\n",
      "=========================\n",
      "Mean of f1 feature: 0\n",
      "Variance of f1 feature: 1\n",
      "=========================\n",
      "Mean of f2 feature: 0\n",
      "Variance of f2 feature: 1\n",
      "=========================\n"
     ]
    }
   ],
   "source": [
    "print('Valid set region zero mean and variance:')\n",
    "print()\n",
    "for i in range(len(numeric)):\n",
    "    print('Mean of', numeric[i], 'feature:', round(valid_0[numeric[i]].mean()))\n",
    "    print('Variance of', numeric[i], 'feature:', round(valid_0[numeric[i]].var()))\n",
    "    print('=========================')"
   ]
  },
  {
   "cell_type": "markdown",
   "id": "5cbc9e32",
   "metadata": {},
   "source": [
    "**region one**"
   ]
  },
  {
   "cell_type": "code",
   "execution_count": 54,
   "id": "0f7e49ac",
   "metadata": {},
   "outputs": [],
   "source": [
    "# Transforming the test set\n",
    "train_1[numeric] = scaler.transform(train_1[numeric])\n",
    "\n",
    "# Transforming the valid set \n",
    "valid_1[numeric] = scaler.transform(valid_1[numeric])"
   ]
  },
  {
   "cell_type": "code",
   "execution_count": 55,
   "id": "daffa870",
   "metadata": {},
   "outputs": [
    {
     "data": {
      "text/html": [
       "<div>\n",
       "<style scoped>\n",
       "    .dataframe tbody tr th:only-of-type {\n",
       "        vertical-align: middle;\n",
       "    }\n",
       "\n",
       "    .dataframe tbody tr th {\n",
       "        vertical-align: top;\n",
       "    }\n",
       "\n",
       "    .dataframe thead th {\n",
       "        text-align: right;\n",
       "    }\n",
       "</style>\n",
       "<table border=\"1\" class=\"dataframe\">\n",
       "  <thead>\n",
       "    <tr style=\"text-align: right;\">\n",
       "      <th></th>\n",
       "      <th>f0</th>\n",
       "      <th>f1</th>\n",
       "      <th>f2</th>\n",
       "      <th>product</th>\n",
       "    </tr>\n",
       "  </thead>\n",
       "  <tbody>\n",
       "    <tr>\n",
       "      <th>8989</th>\n",
       "      <td>-8.001060</td>\n",
       "      <td>-22.128990</td>\n",
       "      <td>-0.795538</td>\n",
       "      <td>3.179103</td>\n",
       "    </tr>\n",
       "    <tr>\n",
       "      <th>68582</th>\n",
       "      <td>-11.396197</td>\n",
       "      <td>-21.387603</td>\n",
       "      <td>-0.161057</td>\n",
       "      <td>57.085625</td>\n",
       "    </tr>\n",
       "    <tr>\n",
       "      <th>77080</th>\n",
       "      <td>7.731645</td>\n",
       "      <td>-0.449043</td>\n",
       "      <td>-0.158663</td>\n",
       "      <td>53.906522</td>\n",
       "    </tr>\n",
       "  </tbody>\n",
       "</table>\n",
       "</div>"
      ],
      "text/plain": [
       "              f0         f1        f2    product\n",
       "8989   -8.001060 -22.128990 -0.795538   3.179103\n",
       "68582 -11.396197 -21.387603 -0.161057  57.085625\n",
       "77080   7.731645  -0.449043 -0.158663  53.906522"
      ]
     },
     "execution_count": 55,
     "metadata": {},
     "output_type": "execute_result"
    }
   ],
   "source": [
    "train_1.head(3)"
   ]
  },
  {
   "cell_type": "code",
   "execution_count": 56,
   "id": "c2338890",
   "metadata": {},
   "outputs": [
    {
     "data": {
      "text/html": [
       "<div>\n",
       "<style scoped>\n",
       "    .dataframe tbody tr th:only-of-type {\n",
       "        vertical-align: middle;\n",
       "    }\n",
       "\n",
       "    .dataframe tbody tr th {\n",
       "        vertical-align: top;\n",
       "    }\n",
       "\n",
       "    .dataframe thead th {\n",
       "        text-align: right;\n",
       "    }\n",
       "</style>\n",
       "<table border=\"1\" class=\"dataframe\">\n",
       "  <thead>\n",
       "    <tr style=\"text-align: right;\">\n",
       "      <th></th>\n",
       "      <th>f0</th>\n",
       "      <th>f1</th>\n",
       "      <th>f2</th>\n",
       "      <th>product</th>\n",
       "    </tr>\n",
       "  </thead>\n",
       "  <tbody>\n",
       "    <tr>\n",
       "      <th>63993</th>\n",
       "      <td>-11.779178</td>\n",
       "      <td>-27.119759</td>\n",
       "      <td>-0.479734</td>\n",
       "      <td>30.132364</td>\n",
       "    </tr>\n",
       "    <tr>\n",
       "      <th>29603</th>\n",
       "      <td>-5.242678</td>\n",
       "      <td>-12.318814</td>\n",
       "      <td>-0.161545</td>\n",
       "      <td>53.906522</td>\n",
       "    </tr>\n",
       "    <tr>\n",
       "      <th>23902</th>\n",
       "      <td>-10.293296</td>\n",
       "      <td>-14.726680</td>\n",
       "      <td>0.158173</td>\n",
       "      <td>84.038886</td>\n",
       "    </tr>\n",
       "  </tbody>\n",
       "</table>\n",
       "</div>"
      ],
      "text/plain": [
       "              f0         f1        f2    product\n",
       "63993 -11.779178 -27.119759 -0.479734  30.132364\n",
       "29603  -5.242678 -12.318814 -0.161545  53.906522\n",
       "23902 -10.293296 -14.726680  0.158173  84.038886"
      ]
     },
     "execution_count": 56,
     "metadata": {},
     "output_type": "execute_result"
    }
   ],
   "source": [
    "valid_1.head(3)"
   ]
  },
  {
   "cell_type": "code",
   "execution_count": 57,
   "id": "cba84b7c",
   "metadata": {},
   "outputs": [
    {
     "name": "stdout",
     "output_type": "stream",
     "text": [
      "Train set region one mean and variance:\n",
      "\n",
      "Mean of f0 feature: 1\n",
      "Variance of f0 feature: 105\n",
      "=========================\n",
      "Mean of f1 feature: -10\n",
      "Variance of f1 feature: 95\n",
      "=========================\n",
      "Mean of f2 feature: 0\n",
      "Variance of f2 feature: 0\n",
      "=========================\n"
     ]
    }
   ],
   "source": [
    "print('Train set region one mean and variance:')\n",
    "print()\n",
    "for i in range(len(numeric)):\n",
    "    print('Mean of', numeric[i], 'feature:', round(train_1[numeric[i]].mean()))\n",
    "    print('Variance of', numeric[i], 'feature:', round(train_1[numeric[i]].var()))\n",
    "    print('=========================')"
   ]
  },
  {
   "cell_type": "code",
   "execution_count": 58,
   "id": "3df4fcae",
   "metadata": {},
   "outputs": [
    {
     "name": "stdout",
     "output_type": "stream",
     "text": [
      "Valid set region one mean and variance:\n",
      "\n",
      "Mean of f0 feature: 1\n",
      "Variance of f0 feature: 106\n",
      "=========================\n",
      "Mean of f1 feature: -10\n",
      "Variance of f1 feature: 95\n",
      "=========================\n",
      "Mean of f2 feature: 0\n",
      "Variance of f2 feature: 0\n",
      "=========================\n"
     ]
    }
   ],
   "source": [
    "print('Valid set region one mean and variance:')\n",
    "print()\n",
    "for i in range(len(numeric)):\n",
    "    print('Mean of', numeric[i], 'feature:', round(valid_1[numeric[i]].mean()))\n",
    "    print('Variance of', numeric[i], 'feature:', round(valid_1[numeric[i]].var()))\n",
    "    print('=========================')"
   ]
  },
  {
   "cell_type": "markdown",
   "id": "66d63359",
   "metadata": {},
   "source": [
    "**region two**"
   ]
  },
  {
   "cell_type": "code",
   "execution_count": 59,
   "id": "44c45ef8",
   "metadata": {},
   "outputs": [],
   "source": [
    "# Transforming the test set\n",
    "train_2[numeric] = scaler.transform(train_2[numeric])\n",
    "\n",
    "# Transforming the valid set \n",
    "valid_2[numeric] = scaler.transform(valid_2[numeric])"
   ]
  },
  {
   "cell_type": "code",
   "execution_count": 60,
   "id": "7938d4b6",
   "metadata": {},
   "outputs": [
    {
     "data": {
      "text/html": [
       "<div>\n",
       "<style scoped>\n",
       "    .dataframe tbody tr th:only-of-type {\n",
       "        vertical-align: middle;\n",
       "    }\n",
       "\n",
       "    .dataframe tbody tr th {\n",
       "        vertical-align: top;\n",
       "    }\n",
       "\n",
       "    .dataframe thead th {\n",
       "        text-align: right;\n",
       "    }\n",
       "</style>\n",
       "<table border=\"1\" class=\"dataframe\">\n",
       "  <thead>\n",
       "    <tr style=\"text-align: right;\">\n",
       "      <th></th>\n",
       "      <th>f0</th>\n",
       "      <th>f1</th>\n",
       "      <th>f2</th>\n",
       "      <th>product</th>\n",
       "    </tr>\n",
       "  </thead>\n",
       "  <tbody>\n",
       "    <tr>\n",
       "      <th>28621</th>\n",
       "      <td>-0.447121</td>\n",
       "      <td>-1.180208</td>\n",
       "      <td>1.654875</td>\n",
       "      <td>138.167082</td>\n",
       "    </tr>\n",
       "    <tr>\n",
       "      <th>11115</th>\n",
       "      <td>-0.610495</td>\n",
       "      <td>-0.869847</td>\n",
       "      <td>-0.221635</td>\n",
       "      <td>28.486457</td>\n",
       "    </tr>\n",
       "    <tr>\n",
       "      <th>23508</th>\n",
       "      <td>1.513336</td>\n",
       "      <td>3.434183</td>\n",
       "      <td>-0.883745</td>\n",
       "      <td>38.367166</td>\n",
       "    </tr>\n",
       "  </tbody>\n",
       "</table>\n",
       "</div>"
      ],
      "text/plain": [
       "             f0        f1        f2     product\n",
       "28621 -0.447121 -1.180208  1.654875  138.167082\n",
       "11115 -0.610495 -0.869847 -0.221635   28.486457\n",
       "23508  1.513336  3.434183 -0.883745   38.367166"
      ]
     },
     "execution_count": 60,
     "metadata": {},
     "output_type": "execute_result"
    }
   ],
   "source": [
    "train_2.head(3)"
   ]
  },
  {
   "cell_type": "code",
   "execution_count": 61,
   "id": "e9c14542",
   "metadata": {},
   "outputs": [
    {
     "data": {
      "text/html": [
       "<div>\n",
       "<style scoped>\n",
       "    .dataframe tbody tr th:only-of-type {\n",
       "        vertical-align: middle;\n",
       "    }\n",
       "\n",
       "    .dataframe tbody tr th {\n",
       "        vertical-align: top;\n",
       "    }\n",
       "\n",
       "    .dataframe thead th {\n",
       "        text-align: right;\n",
       "    }\n",
       "</style>\n",
       "<table border=\"1\" class=\"dataframe\">\n",
       "  <thead>\n",
       "    <tr style=\"text-align: right;\">\n",
       "      <th></th>\n",
       "      <th>f0</th>\n",
       "      <th>f1</th>\n",
       "      <th>f2</th>\n",
       "      <th>product</th>\n",
       "    </tr>\n",
       "  </thead>\n",
       "  <tbody>\n",
       "    <tr>\n",
       "      <th>50862</th>\n",
       "      <td>-1.767795</td>\n",
       "      <td>-0.126883</td>\n",
       "      <td>-1.470967</td>\n",
       "      <td>83.696365</td>\n",
       "    </tr>\n",
       "    <tr>\n",
       "      <th>15634</th>\n",
       "      <td>-0.379840</td>\n",
       "      <td>-5.432731</td>\n",
       "      <td>-1.582162</td>\n",
       "      <td>90.353390</td>\n",
       "    </tr>\n",
       "    <tr>\n",
       "      <th>32055</th>\n",
       "      <td>-0.290180</td>\n",
       "      <td>-6.014640</td>\n",
       "      <td>-0.243366</td>\n",
       "      <td>117.807251</td>\n",
       "    </tr>\n",
       "  </tbody>\n",
       "</table>\n",
       "</div>"
      ],
      "text/plain": [
       "             f0        f1        f2     product\n",
       "50862 -1.767795 -0.126883 -1.470967   83.696365\n",
       "15634 -0.379840 -5.432731 -1.582162   90.353390\n",
       "32055 -0.290180 -6.014640 -0.243366  117.807251"
      ]
     },
     "execution_count": 61,
     "metadata": {},
     "output_type": "execute_result"
    }
   ],
   "source": [
    "valid_2.head(3)"
   ]
  },
  {
   "cell_type": "code",
   "execution_count": 62,
   "id": "6176deb2",
   "metadata": {},
   "outputs": [
    {
     "name": "stdout",
     "output_type": "stream",
     "text": [
      "Train set region two mean and variance:\n",
      "\n",
      "Mean of f0 feature: -1\n",
      "Variance of f0 feature: 3\n",
      "=========================\n",
      "Mean of f1 feature: 0\n",
      "Variance of f1 feature: 10\n",
      "=========================\n",
      "Mean of f2 feature: 0\n",
      "Variance of f2 feature: 1\n",
      "=========================\n"
     ]
    }
   ],
   "source": [
    "print('Train set region two mean and variance:')\n",
    "print()\n",
    "for i in range(len(numeric)):\n",
    "    print('Mean of', numeric[i], 'feature:', round(train_2[numeric[i]].mean()))\n",
    "    print('Variance of', numeric[i], 'feature:', round(train_2[numeric[i]].var()))\n",
    "    print('=========================')"
   ]
  },
  {
   "cell_type": "code",
   "execution_count": 63,
   "id": "dfcc6aea",
   "metadata": {},
   "outputs": [
    {
     "name": "stdout",
     "output_type": "stream",
     "text": [
      "Valid set region two mean and variance:\n",
      "\n",
      "Mean of f0 feature: -1\n",
      "Variance of f0 feature: 3\n",
      "=========================\n",
      "Mean of f1 feature: -1\n",
      "Variance of f1 feature: 10\n",
      "=========================\n",
      "Mean of f2 feature: 0\n",
      "Variance of f2 feature: 1\n",
      "=========================\n"
     ]
    }
   ],
   "source": [
    "print('Valid set region two mean and variance:')\n",
    "print()\n",
    "for i in range(len(numeric)):\n",
    "    print('Mean of', numeric[i], 'feature:', round(valid_2[numeric[i]].mean()))\n",
    "    print('Variance of', numeric[i], 'feature:', round(valid_2[numeric[i]].var()))\n",
    "    print('=========================')"
   ]
  },
  {
   "cell_type": "markdown",
   "id": "7081f6c9",
   "metadata": {},
   "source": [
    "**Building ML models**"
   ]
  },
  {
   "cell_type": "code",
   "execution_count": 64,
   "id": "eeaccae7",
   "metadata": {},
   "outputs": [],
   "source": [
    "# Setting the features and target variables for region zero\n",
    "features_train_0 = train_0.drop(['product'], axis =1)\n",
    "target_train_0 = train_0['product']\n",
    "\n",
    "features_valid_0 = valid_0.drop(['product'], axis =1)\n",
    "target_valid_0 = valid_0['product']\n",
    "\n",
    "# Setting the features and target variables for region zero\n",
    "features_train_1 = train_1.drop(['product'], axis =1)\n",
    "target_train_1 = train_1['product']\n",
    "\n",
    "features_valid_1 = valid_1.drop(['product'], axis =1)\n",
    "target_valid_1 = valid_1['product']\n",
    "\n",
    "# Setting the features and target variables for region zero\n",
    "features_train_2 = train_2.drop(['product'], axis =1)\n",
    "target_train_2 = train_2['product']\n",
    "\n",
    "features_valid_2 = valid_2.drop(['product'], axis =1)\n",
    "target_valid_2 = valid_2['product']"
   ]
  },
  {
   "cell_type": "code",
   "execution_count": 65,
   "id": "543ae086",
   "metadata": {},
   "outputs": [],
   "source": [
    "# Initializing the Linear Regression model \n",
    "reg = LinearRegression()\n",
    "\n",
    "# Training and predicting for region zero\n",
    "fit_0 = reg.fit(features_train_0, target_train_0)\n",
    "predictions_valid_0 = reg.predict(features_valid_0)\n",
    "\n",
    "# Training and predicting for region one\n",
    "fit_1 = reg.fit(features_train_1, target_train_1)\n",
    "predictions_valid_1 = reg.predict(features_valid_1)\n",
    "\n",
    "# Training and predicting for region two\n",
    "fit_2 = reg.fit(features_train_2, target_train_2)\n",
    "predictions_valid_2 = reg.predict(features_valid_2)"
   ]
  },
  {
   "cell_type": "markdown",
   "id": "d4b515ce",
   "metadata": {},
   "source": [
    "**2.3. Save the predictions and correct answers for the validation set.**"
   ]
  },
  {
   "cell_type": "markdown",
   "id": "4cfad25b",
   "metadata": {},
   "source": [
    "We did it in the previous step :)"
   ]
  },
  {
   "cell_type": "markdown",
   "id": "54b51e66",
   "metadata": {},
   "source": [
    "**2.4. Print the average volume of predicted reserves and model RMSE.**"
   ]
  },
  {
   "cell_type": "code",
   "execution_count": 66,
   "id": "d8ac20fb",
   "metadata": {},
   "outputs": [
    {
     "name": "stdout",
     "output_type": "stream",
     "text": [
      "Region zero metrics:\n",
      "Average volume of predicted reserves: 92.49\n",
      "RMSE: 37.67\n",
      "===========================================\n",
      "\n",
      "Region one metrics:\n",
      "Average volume of predicted reserves: 68.87\n",
      "RMSE: 0.89\n",
      "===========================================\n",
      "\n",
      "Region two metrics:\n",
      "Average volume of predicted reserves: 94.3\n",
      "RMSE: 40.44\n",
      "===========================================\n",
      "\n"
     ]
    }
   ],
   "source": [
    "# Setting lists of all predictions and right answers for all  three regions\n",
    "predictions_valid = [predictions_valid_0, predictions_valid_1, predictions_valid_2]\n",
    "target_valid = [target_valid_0, target_valid_1, target_valid_2]\n",
    "\n",
    "# Building a loop to print all desired metrics for all regions \n",
    "for i in range(len(target_valid)):\n",
    "    average_volume = predictions_valid[i].mean()\n",
    "    rmse = mean_squared_error(target_valid[i], predictions_valid[i])**0.5\n",
    "    print(region_name[i], 'metrics:')\n",
    "    print('Average volume of predicted reserves:', round(average_volume,2))\n",
    "    print('RMSE:', round(rmse,2))\n",
    "    print('===========================================')\n",
    "    print()"
   ]
  },
  {
   "cell_type": "markdown",
   "id": "d65611ac",
   "metadata": {},
   "source": [
    "**2.5. Analyze the results.**"
   ]
  },
  {
   "cell_type": "markdown",
   "id": "6b50746f",
   "metadata": {},
   "source": [
    "The results are interesting. \n",
    "\n",
    "In general, we want as low RMSE value as we can get. The lower the RMSE, the better the model fitting is (that way the data is more concentrated around the line of best fit). So in terms of RMSE, **region one** is the best of all three. It has the lowest RMSE score: 0.89, which is below zero. It means that there is a deviation of only 890 barrels, while in regions zero and two the deviation is around 40 thousand barrels. That is quite a large and very significant difference!\n",
    "\n",
    "On the other hand, **regions zero and two** have the biggest and almost the same average volume of predicted oil reserves: around 95 thousand barrels. Region one has the lowest average volume of predicted oil reserves - around 70 thousand barrels. We have a difference in around 25 thousand barrels - that's also a significant difference!"
   ]
  },
  {
   "cell_type": "markdown",
   "id": "457dab90",
   "metadata": {},
   "source": [
    "## 3. Prepare for profit calculation:"
   ]
  },
  {
   "cell_type": "markdown",
   "id": "b82f2abc",
   "metadata": {},
   "source": [
    "**3.1 Store all key values for calculations in separate variables.**"
   ]
  },
  {
   "cell_type": "code",
   "execution_count": 67,
   "id": "7ee5613a",
   "metadata": {},
   "outputs": [],
   "source": [
    "cost_dev_budget_200 = 100000000\n",
    "cost_dev_one_well = 100000000/200\n",
    "revenue_per_unit = 4500\n",
    "min_risk = 0.025"
   ]
  },
  {
   "cell_type": "markdown",
   "id": "21f3786c",
   "metadata": {},
   "source": [
    "**3.2 Calculate the volume of reserves sufficient for developing a new well without losses. Compare the obtained value with the average volume of reserves in each region.**"
   ]
  },
  {
   "cell_type": "code",
   "execution_count": 68,
   "id": "bd4d9afd",
   "metadata": {},
   "outputs": [
    {
     "name": "stdout",
     "output_type": "stream",
     "text": [
      "The smallest volume of reserves needed for developing a new well without losses: 112\n"
     ]
    }
   ],
   "source": [
    "min_well_volume = cost_dev_one_well/revenue_per_unit\n",
    "print('The smallest volume of reserves needed for developing a new well without losses:', math.ceil(min_well_volume))"
   ]
  },
  {
   "cell_type": "markdown",
   "id": "42fcb35c",
   "metadata": {},
   "source": [
    "Let's compare this number with the findings of the averages that we found earlier.\n",
    "\n",
    "**Region zero**\n",
    "* Average volume of predicted reserves: 92.49\n",
    "* Required minimum reserves: 112\n",
    "* **Conclusion:** The average volume of reserves in region zero is **insufficient** for developing a new well without losses.\n",
    "\n",
    "**Region one**\n",
    "* Average volume of predicted reserves: 68.87\n",
    "* Required minimum reserves: 112\n",
    "* **Conclusion:** The average volume of reserves in region zero is **insufficient** for developing a new well without losses.\n",
    "\n",
    "**Region two**\n",
    "* Average volume of predicted reserves: 94.3\n",
    "* Required minimum reserves: 112\n",
    "* **Conclusion:** The average volume of reserves in region zero is **insufficient** for developing a new well without losses."
   ]
  },
  {
   "cell_type": "markdown",
   "id": "177f3e46",
   "metadata": {},
   "source": [
    "**3.3 Provide the findings about the preparation for profit calculation step.**"
   ]
  },
  {
   "cell_type": "markdown",
   "id": "3ebb808f",
   "metadata": {},
   "source": [
    "**Overall conclusion:** \n",
    "\n",
    "None of the three regions have sufficient average volume of reserves for developing a new well without losses."
   ]
  },
  {
   "cell_type": "markdown",
   "id": "2073e669",
   "metadata": {},
   "source": [
    "## 4. Write a function to calculate profit from a set of selected oil wells and model predictions:"
   ]
  },
  {
   "cell_type": "markdown",
   "id": "600a85d6",
   "metadata": {},
   "source": [
    "**4.1 Pick the wells with the highest values of predictions.**"
   ]
  },
  {
   "cell_type": "markdown",
   "id": "42b97839",
   "metadata": {},
   "source": [
    "We were given the condition that for profit calculation, the research is done on 500 wells with the selection of the 200 best wells. So for this task, we select at random 500 wells per region, and from them, we selected the top 200."
   ]
  },
  {
   "cell_type": "code",
   "execution_count": 69,
   "id": "fc87a2ee",
   "metadata": {},
   "outputs": [],
   "source": [
    "# Adding a predictions column to the regions datasets\n",
    "valid_0['predictions'] = predictions_valid_0\n",
    "valid_1['predictions'] = predictions_valid_1\n",
    "valid_2['predictions'] = predictions_valid_2"
   ]
  },
  {
   "cell_type": "code",
   "execution_count": 70,
   "id": "7cedf495",
   "metadata": {},
   "outputs": [],
   "source": [
    "# Region zero: picking the best 200 wells \n",
    "wells_200_0 = valid_0.sample(n=500, replace=True).sort_values(by=['predictions'], ascending = False).head(200)\n",
    "\n",
    "# Region one: picking the best 200 wells  \n",
    "wells_200_1 = valid_1.sample(n=500, replace=True).sort_values(by=['predictions'], ascending = False).head(200)\n",
    "\n",
    "# Region two: picking the best 200 wells  \n",
    "wells_200_2 = valid_2.sample(n=500, replace=True).sort_values(by=['predictions'], ascending = False).head(200)"
   ]
  },
  {
   "cell_type": "markdown",
   "id": "6489a3e0",
   "metadata": {},
   "source": [
    "Nice!\n",
    "\n",
    "Let's move on."
   ]
  },
  {
   "cell_type": "markdown",
   "id": "b9eb27c2",
   "metadata": {},
   "source": [
    "**4.2. Summarize the target volume of reserves in accordance with these predictions**"
   ]
  },
  {
   "cell_type": "code",
   "execution_count": 71,
   "id": "3d098ac0",
   "metadata": {},
   "outputs": [
    {
     "name": "stdout",
     "output_type": "stream",
     "text": [
      "Region zero top 200 wells volume reserves: 23036.35 barrels\n",
      "Region one top 200 wells volume reserves: 23001.64 barrels\n",
      "Region two top 200 wells volume reserves: 22716.58 barrels\n"
     ]
    }
   ],
   "source": [
    "# Summarizing top wells volume reserves in each region\n",
    "top_200 = [wells_200_0['product'], wells_200_1['product'], wells_200_2['product']]\n",
    "for i in range(len(top_200)):\n",
    "    print(region_name[i], 'top 200 wells volume reserves:', round(top_200[i].sum(), 2), 'barrels')"
   ]
  },
  {
   "cell_type": "markdown",
   "id": "edf5e8a3",
   "metadata": {},
   "source": [
    "It seems that **region one** has the largest volume of oil reserves."
   ]
  },
  {
   "cell_type": "markdown",
   "id": "15f7ed1e",
   "metadata": {},
   "source": [
    "**4.3. Provide findings: suggest a region for oil wells' development and justify the choice. Calculate the profit for the obtained volume of reserves.**"
   ]
  },
  {
   "cell_type": "markdown",
   "id": "53cbcfeb",
   "metadata": {},
   "source": [
    "Now we will build a function that will calculate the profit. We will use the variables that we created in the previous steps to pick the most profitable region for developing oil wells. "
   ]
  },
  {
   "cell_type": "code",
   "execution_count": 72,
   "id": "bb0a90f7",
   "metadata": {},
   "outputs": [],
   "source": [
    "def well_200_dev_profit(data, predictions, dev_cost):\n",
    "    \n",
    "    # Adding a predictions column to the dataset\n",
    "    data['predictions'] = predictions\n",
    "    \n",
    "    # Picking randomly 500 wells and finding the best 200\n",
    "    best_200_wells = data.sample(n=500, replace=True).sort_values(by=['predictions'], ascending = False).head(200)\n",
    "    \n",
    "    # Calculating the revenue with the target values of the corresponding 200 bestpredicted wells \n",
    "    target_revenue = best_200_wells['product'].sum() * revenue_per_unit\n",
    "    \n",
    "    # Calculating the profit: subtraction of the development cost from the target revenue\n",
    "    profit = math.ceil(target_revenue - dev_cost)\n",
    "    \n",
    "    # Returning the profit value\n",
    "    return profit"
   ]
  },
  {
   "cell_type": "markdown",
   "id": "510f1158",
   "metadata": {},
   "source": [
    "Now let's calculate the profit for each region and pick the region with the highest profit."
   ]
  },
  {
   "cell_type": "code",
   "execution_count": 73,
   "id": "bb00b7ca",
   "metadata": {},
   "outputs": [
    {
     "name": "stdout",
     "output_type": "stream",
     "text": [
      "Region zero estimated profit of developing 200 oil wells: 6223599 dollars\n",
      "Region one estimated profit of developing 200 oil wells: 5940000 dollars\n",
      "Region two estimated profit of developing 200 oil wells: 2678250 dollars\n"
     ]
    }
   ],
   "source": [
    "profits = []\n",
    "valid = [valid_0, valid_1, valid_2]\n",
    "predictions = [predictions_valid_0, predictions_valid_1, predictions_valid_2]\n",
    "for i in range(len(valid)):\n",
    "    profit = well_200_dev_profit(valid[i], predictions[i], cost_dev_budget_200)\n",
    "    profits.append(profit)\n",
    "    print(region_name[i], 'estimated profit of developing 200 oil wells:', profit, 'dollars')"
   ]
  },
  {
   "cell_type": "code",
   "execution_count": 74,
   "id": "a6a62e3d",
   "metadata": {},
   "outputs": [
    {
     "name": "stdout",
     "output_type": "stream",
     "text": [
      "Region zero is the most frofitable region with 6223599 million dollars.\n"
     ]
    }
   ],
   "source": [
    "# Picking the most profitable region\n",
    "dicts = {}\n",
    "keys = region_name\n",
    "\n",
    "# Building a loop for creating a dictionary\n",
    "for i in range(len(keys)):\n",
    "    dicts[keys[i]] = profits[i]\n",
    "    \n",
    "max_mean = max(dicts.values())\n",
    "for i in range(len(keys)):\n",
    "    if dicts[keys[i]] == max_mean:\n",
    "        print(keys[i], 'is the most frofitable region with', max_mean, 'million dollars.')"
   ]
  },
  {
   "cell_type": "markdown",
   "id": "50dcd102",
   "metadata": {},
   "source": [
    "So here we see that the most profitable region for 200 oil wells development is **region zero**.\n",
    "\n",
    "The profit calculation led us to the suggestion to develop new oil wells in **region zero** -  It has the highest profit! "
   ]
  },
  {
   "cell_type": "markdown",
   "id": "c41955af",
   "metadata": {},
   "source": [
    "## 5. Calculate risks and profit for each region:"
   ]
  },
  {
   "cell_type": "markdown",
   "id": "935fed85",
   "metadata": {},
   "source": [
    "**5.1. Use the bootstrapping technique with 1000 samples to find the distribution of profit.**"
   ]
  },
  {
   "cell_type": "code",
   "execution_count": 75,
   "id": "f2c59a73",
   "metadata": {},
   "outputs": [],
   "source": [
    "# Creating a RandomState() instance so that with each new call, its state will change to random\n",
    "state = np.random.RandomState(12345)\n",
    "\n",
    "# Finding the profit distribution for region zero with the bootstrapping technique\n",
    "values_0 = []\n",
    "for i in range(1000):\n",
    "    values_0.append(well_200_dev_profit(valid_0, predictions_valid_0, cost_dev_budget_200))\n",
    "    \n",
    "# Finding the profit distribution for region one with the bootstrapping technique\n",
    "values_1 = []\n",
    "for i in range(1000):\n",
    "    values_1.append(well_200_dev_profit(valid_1, predictions_valid_1, cost_dev_budget_200))\n",
    "    \n",
    "# Finding the profit distribution for region two with the bootstrapping technique\n",
    "values_2 = []\n",
    "for i in range(1000):\n",
    "    values_2.append(well_200_dev_profit(valid_2, predictions_valid_2, cost_dev_budget_200))"
   ]
  },
  {
   "cell_type": "code",
   "execution_count": 76,
   "id": "45bda011",
   "metadata": {},
   "outputs": [
    {
     "name": "stdout",
     "output_type": "stream",
     "text": [
      "Region zero profit distribution mean: 4146674.772\n",
      "Region one profit distribution mean: 4376113.647\n",
      "Region two profit distribution mean: 2723310.416\n"
     ]
    }
   ],
   "source": [
    "# Printing the mean of each the profit distribution for each region\n",
    "dis_profit = [values_0, values_1, values_2]\n",
    "for i in range(len(region_name)):\n",
    "    print(region_name[i], 'profit distribution mean:', mean(dis_profit[i]))"
   ]
  },
  {
   "cell_type": "code",
   "execution_count": 77,
   "id": "61d5e7c8",
   "metadata": {},
   "outputs": [
    {
     "name": "stdout",
     "output_type": "stream",
     "text": [
      "Region one is the most frofitable region with 4376113.647 million dollars.\n"
     ]
    }
   ],
   "source": [
    "# Picking the most profitable region\n",
    "dicts_new = {}\n",
    "keys = region_name\n",
    "values = [mean(values_0), mean(values_1), mean(values_2)]\n",
    "\n",
    "# Building a loop for creating a dictionary\n",
    "for i in range(len(keys)):\n",
    "    dicts_new[keys[i]] = values[i]\n",
    "    \n",
    "max_mean = max(dicts_new.values())\n",
    "for i in range(len(keys)):\n",
    "    if dicts_new[keys[i]] == max_mean:\n",
    "        print(keys[i], 'is the most frofitable region with', max_mean, 'million dollars.')"
   ]
  },
  {
   "cell_type": "markdown",
   "id": "a8502089",
   "metadata": {},
   "source": [
    "The output shows us that the profit in the **region one** is distributed around the highest profit value."
   ]
  },
  {
   "cell_type": "markdown",
   "id": "099de124",
   "metadata": {},
   "source": [
    "**5.2. Find average profit, 95% confidence interval and risk of losses. Loss is negative profit, calculate it as a probability and then express as a percentage.**"
   ]
  },
  {
   "cell_type": "markdown",
   "id": "ef28e5b8",
   "metadata": {},
   "source": [
    "We already found the average profit in the previous stage, but we will write it again :)"
   ]
  },
  {
   "cell_type": "code",
   "execution_count": 78,
   "id": "f678285d",
   "metadata": {},
   "outputs": [
    {
     "name": "stdout",
     "output_type": "stream",
     "text": [
      "Region zero profit distribution mean: 4146674.772\n",
      "Region one profit distribution mean: 4376113.647\n",
      "Region two profit distribution mean: 2723310.416\n"
     ]
    }
   ],
   "source": [
    "# Printing the mean of each the profit distribution for each region\n",
    "dis_profit = [values_0, values_1, values_2]\n",
    "for i in range(len(region_name)):\n",
    "    print(region_name[i], 'profit distribution mean:', mean(dis_profit[i]))"
   ]
  },
  {
   "cell_type": "markdown",
   "id": "2c315495",
   "metadata": {},
   "source": [
    "Now let's find the 95% confidence interval for each region"
   ]
  },
  {
   "cell_type": "code",
   "execution_count": 79,
   "id": "c58f5ac4",
   "metadata": {},
   "outputs": [
    {
     "name": "stdout",
     "output_type": "stream",
     "text": [
      "Region zero 95% confidence interval: [ -1243013.05 , 9159093.02 ]\n",
      "Region one 95% confidence interval: [ 581142.9 , 8331506.25 ]\n",
      "Region two 95% confidence interval: [ -2380994.38 , 8073407.18 ]\n"
     ]
    }
   ],
   "source": [
    "reg_values = [pd.Series(values_0), pd.Series(values_1), pd.Series(values_2)]\n",
    "\n",
    "# Calculating 95% confidence interval for region zero\n",
    "for i in range(len(reg_values)):\n",
    "    print(region_name[i],'95% confidence interval: [',round(reg_values[i].quantile(0.025),2), ',', \n",
    "          round(reg_values[i].quantile(0.975),2),']')"
   ]
  },
  {
   "cell_type": "markdown",
   "id": "227a3ac5",
   "metadata": {},
   "source": [
    "Now let's calculate the risk of losses.\n",
    "Loss is negative profit so we will find for each region in the series of profits that we created earlier, what is the probability to maintain a loss. \n",
    "\n",
    "Let's go."
   ]
  },
  {
   "cell_type": "code",
   "execution_count": 80,
   "id": "d3bc881e",
   "metadata": {},
   "outputs": [
    {
     "name": "stdout",
     "output_type": "stream",
     "text": [
      "\n",
      "Region zero risk of loss:\n",
      "Probability: 0.047\n",
      "Percentage: 4.70%\n",
      "===========================\n",
      "\n",
      "Region one risk of loss:\n",
      "Probability: 0.016\n",
      "Percentage: 1.60%\n",
      "===========================\n",
      "\n",
      "Region two risk of loss:\n",
      "Probability: 0.155\n",
      "Percentage: 15.50%\n",
      "===========================\n"
     ]
    }
   ],
   "source": [
    "# Calculating the risk of loss for region zero\n",
    "for i in range(len(reg_values)):\n",
    "    negative_loss = reg_values[i][reg_values[i] <0]\n",
    "    loss_prob = len(negative_loss) / len(reg_values[i])\n",
    "    print()\n",
    "    print(region_name[i], 'risk of loss:')\n",
    "    print('Probability:',loss_prob)\n",
    "    print('Percentage: {:.2%}'.format(loss_prob))\n",
    "    print('===========================')"
   ]
  },
  {
   "cell_type": "markdown",
   "id": "e9b89792",
   "metadata": {},
   "source": [
    "So here we see that **region one** has the lowest percentage for risk loss: 1.6%. The other regions have a relatively high percentage of risk loss. **Region zero** has 3 times more risk than **region one**, and **region two** has 10 times more risk than **region one**. "
   ]
  },
  {
   "cell_type": "markdown",
   "id": "fc26f0ae",
   "metadata": {},
   "source": [
    "**5.3. Provide findings: suggest a region for development of oil wells and justify the choice.**"
   ]
  },
  {
   "cell_type": "markdown",
   "id": "ef9bda14",
   "metadata": {},
   "source": [
    "After the research that we have done with the bootstrapping technique, we will recommend developing new wells in **region one**. \n",
    "\n",
    "The highest distribution profit means is in **region one**, and **region one** also has a probability of 98.4% for positive profit - sounds like a good deal!.   \n",
    "\n",
    "After wightning all the findings, **region one** is the preferable region to develop 200 new oil wells. It has the highest percentage of accuracy and profitability and the lowest percentage of risk loss, and we find all this to maximize the reliability and certainty of profit which is the most important criteria for any business.  \n",
    "\n",
    "Biana."
   ]
  }
 ],
 "metadata": {
  "ExecuteTimeLog": [
   {
    "duration": 546,
    "start_time": "2022-04-06T21:42:51.885Z"
   },
   {
    "duration": 40781,
    "start_time": "2022-04-06T21:43:00.610Z"
   },
   {
    "duration": 221,
    "start_time": "2022-04-06T21:43:41.394Z"
   }
  ],
  "kernelspec": {
   "display_name": "biana-003b3IiQ",
   "language": "python",
   "name": "biana-003b3iiq"
  },
  "language_info": {
   "codemirror_mode": {
    "name": "ipython",
    "version": 3
   },
   "file_extension": ".py",
   "mimetype": "text/x-python",
   "name": "python",
   "nbconvert_exporter": "python",
   "pygments_lexer": "ipython3",
   "version": "3.7.0"
  },
  "toc": {
   "base_numbering": 1,
   "nav_menu": {},
   "number_sections": true,
   "sideBar": true,
   "skip_h1_title": true,
   "title_cell": "Table of Contents",
   "title_sidebar": "Contents",
   "toc_cell": false,
   "toc_position": {},
   "toc_section_display": true,
   "toc_window_display": false
  }
 },
 "nbformat": 4,
 "nbformat_minor": 5
}
